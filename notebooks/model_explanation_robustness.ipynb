{
 "cells": [
  {
   "cell_type": "code",
   "execution_count": null,
   "metadata": {
    "colab": {
     "base_uri": "https://localhost:8080/"
    },
    "executionInfo": {
     "elapsed": 656,
     "status": "ok",
     "timestamp": 1667137161815,
     "user": {
      "displayName": "Gokul P V",
      "userId": "03397594141489319853"
     },
     "user_tz": -330
    },
    "id": "O-jTwj38X2Yo",
    "outputId": "9c4d883c-9e4e-41d8-bb13-10726e3899a1"
   },
   "outputs": [],
   "source": [
    "# ! nvidia-smi"
   ]
  },
  {
   "cell_type": "code",
   "execution_count": null,
   "metadata": {
    "colab": {
     "base_uri": "https://localhost:8080/"
    },
    "executionInfo": {
     "elapsed": 14059,
     "status": "ok",
     "timestamp": 1667137206145,
     "user": {
      "displayName": "Gokul P V",
      "userId": "03397594141489319853"
     },
     "user_tz": -330
    },
    "id": "kTpcrj1_ZKoL",
    "outputId": "05f4dd68-9e02-4625-a8f2-90bac38b9320"
   },
   "outputs": [],
   "source": [
    "# ! pip install captum timm shap grad-cam  albumentations"
   ]
  },
  {
   "cell_type": "code",
   "execution_count": null,
   "metadata": {
    "executionInfo": {
     "elapsed": 2076,
     "status": "ok",
     "timestamp": 1667137208219,
     "user": {
      "displayName": "Gokul P V",
      "userId": "03397594141489319853"
     },
     "user_tz": -330
    },
    "id": "1xp3ALCSZVvx"
   },
   "outputs": [],
   "source": [
    "import urllib\n",
    "\n",
    "import matplotlib.pyplot as plt\n",
    "import numpy as np\n",
    "import timm\n",
    "import torch\n",
    "import torch.nn.functional as F\n",
    "import torchvision.transforms as T\n",
    "from matplotlib.colors import LinearSegmentedColormap\n",
    "from PIL import Image"
   ]
  },
  {
   "cell_type": "code",
   "execution_count": null,
   "metadata": {
    "executionInfo": {
     "elapsed": 352,
     "status": "ok",
     "timestamp": 1667147206964,
     "user": {
      "displayName": "Gokul P V",
      "userId": "03397594141489319853"
     },
     "user_tz": -330
    },
    "id": "-UME9hv7Zcpb"
   },
   "outputs": [],
   "source": [
    "device = torch.device(\"cuda\")\n",
    "print(device)\n",
    "model = timm.create_model(\"resnet18\", pretrained=True)\n",
    "model.eval()\n",
    "model = model.to(device)"
   ]
  },
  {
   "cell_type": "code",
   "execution_count": null,
   "metadata": {
    "executionInfo": {
     "elapsed": 383,
     "status": "ok",
     "timestamp": 1667137221225,
     "user": {
      "displayName": "Gokul P V",
      "userId": "03397594141489319853"
     },
     "user_tz": -330
    },
    "id": "fgs9LTQgcV5H"
   },
   "outputs": [],
   "source": [
    "# Download human-readable labels for ImageNet and get the classnames\n",
    "url, filename = (\n",
    "    \"https://raw.githubusercontent.com/pytorch/hub/master/imagenet_classes.txt\",\n",
    "    \"imagenet_classes.txt\",\n",
    ")\n",
    "urllib.request.urlretrieve(url, filename)\n",
    "with open(\"imagenet_classes.txt\", \"r\") as f:\n",
    "    categories = [s.strip() for s in f.readlines()]"
   ]
  },
  {
   "cell_type": "code",
   "execution_count": null,
   "metadata": {
    "colab": {
     "base_uri": "https://localhost:8080/"
    },
    "executionInfo": {
     "elapsed": 11,
     "status": "ok",
     "timestamp": 1667137222497,
     "user": {
      "displayName": "Gokul P V",
      "userId": "03397594141489319853"
     },
     "user_tz": -330
    },
    "id": "vDLg3xBJc_fT",
    "outputId": "40de66be-b3e6-45dc-8eb2-34821e4c463a"
   },
   "outputs": [],
   "source": [
    "! wget -O cat.jpeg \"https://encrypted-tbn0.gstatic.com/images?q=tbn:ANd9GcSKr5wT7rfkjkGvNeqgXjBmarC5ZNoZs-H2uMpML8O7Q4F9W-IlUQibBT6IPqyvX45NOgw&usqp=CAU\""
   ]
  },
  {
   "cell_type": "code",
   "execution_count": null,
   "metadata": {
    "id": "QTs0-wo6dB2r"
   },
   "outputs": [],
   "source": [
    "transform = T.Compose([T.Resize(224), T.ToTensor()])\n",
    "\n",
    "transform_normalize = T.Normalize(mean=[0.485, 0.456, 0.406], std=[0.229, 0.224, 0.225])\n",
    "\n",
    "img = Image.open(\"cat.jpeg\")\n",
    "\n",
    "transformed_img = transform(img)\n",
    "\n",
    "img_tensor = transform_normalize(transformed_img)\n",
    "img_tensor = img_tensor.unsqueeze(0)"
   ]
  },
  {
   "cell_type": "code",
   "execution_count": null,
   "metadata": {
    "colab": {
     "base_uri": "https://localhost:8080/"
    },
    "executionInfo": {
     "elapsed": 6551,
     "status": "ok",
     "timestamp": 1666962844686,
     "user": {
      "displayName": "Gokul P V",
      "userId": "01488576985730312631"
     },
     "user_tz": -330
    },
    "id": "O6u4HOlEdPgF",
    "outputId": "fddd8e03-a6cf-4944-805a-c6ba9e60506b"
   },
   "outputs": [],
   "source": [
    "img_tensor = img_tensor.to(device)\n",
    "output = model(img_tensor)\n",
    "output = F.softmax(output, dim=1)\n",
    "prediction_score, pred_label_idx = torch.topk(output, 1)\n",
    "\n",
    "pred_label_idx.squeeze_()\n",
    "predicted_label = categories[pred_label_idx.item()]\n",
    "print(\"Predicted:\", predicted_label, \"(\", prediction_score.squeeze().item(), \")\")"
   ]
  },
  {
   "cell_type": "code",
   "execution_count": null,
   "metadata": {
    "colab": {
     "base_uri": "https://localhost:8080/"
    },
    "executionInfo": {
     "elapsed": 17,
     "status": "ok",
     "timestamp": 1666962844687,
     "user": {
      "displayName": "Gokul P V",
      "userId": "01488576985730312631"
     },
     "user_tz": -330
    },
    "id": "r5B1xTWZdXJk",
    "outputId": "f588373c-9176-46d3-d1fb-4f7163eef391"
   },
   "outputs": [],
   "source": [
    "pred_label_idx"
   ]
  },
  {
   "cell_type": "code",
   "execution_count": null,
   "metadata": {
    "id": "SLHPhVqQdac7"
   },
   "outputs": [],
   "source": [
    "from captum.attr import GradientShap, IntegratedGradients, NoiseTunnel, Occlusion\n",
    "from captum.attr import visualization as viz"
   ]
  },
  {
   "cell_type": "code",
   "execution_count": null,
   "metadata": {
    "id": "-wxtI1LKdduT"
   },
   "outputs": [],
   "source": [
    "integrated_gradients = IntegratedGradients(model)\n",
    "attributions_ig = integrated_gradients.attribute(img_tensor, target=pred_label_idx, n_steps=200)"
   ]
  },
  {
   "cell_type": "code",
   "execution_count": null,
   "metadata": {
    "colab": {
     "base_uri": "https://localhost:8080/",
     "height": 374
    },
    "executionInfo": {
     "elapsed": 1103,
     "status": "ok",
     "timestamp": 1666962876263,
     "user": {
      "displayName": "Gokul P V",
      "userId": "01488576985730312631"
     },
     "user_tz": -330
    },
    "id": "5fbH8W-RkBYt",
    "outputId": "cbbcf31d-edd0-4a27-a019-eeb2ea2c2ac0"
   },
   "outputs": [],
   "source": [
    "default_cmap = LinearSegmentedColormap.from_list(\n",
    "    \"custom blue\", [(0, \"#ffffff\"), (0.25, \"#000000\"), (1, \"#000000\")], N=256\n",
    ")\n",
    "\n",
    "_ = viz.visualize_image_attr(\n",
    "    np.transpose(attributions_ig.squeeze().cpu().detach().numpy(), (1, 2, 0)),\n",
    "    np.transpose(transformed_img.squeeze().cpu().detach().numpy(), (1, 2, 0)),\n",
    "    method=\"heat_map\",\n",
    "    cmap=default_cmap,\n",
    "    show_colorbar=True,\n",
    "    sign=\"positive\",\n",
    "    outlier_perc=1,\n",
    ")"
   ]
  },
  {
   "cell_type": "code",
   "execution_count": null,
   "metadata": {
    "colab": {
     "base_uri": "https://localhost:8080/",
     "height": 331
    },
    "executionInfo": {
     "elapsed": 2698,
     "status": "ok",
     "timestamp": 1666962882668,
     "user": {
      "displayName": "Gokul P V",
      "userId": "01488576985730312631"
     },
     "user_tz": -330
    },
    "id": "WYeft2-ekFRW",
    "outputId": "a870c035-8f1e-4490-ce60-20e5af965c15"
   },
   "outputs": [],
   "source": [
    "noise_tunnel = NoiseTunnel(integrated_gradients)\n",
    "\n",
    "attributions_ig_nt = noise_tunnel.attribute(\n",
    "    img_tensor, nt_samples=10, nt_type=\"smoothgrad_sq\", target=pred_label_idx\n",
    ")\n",
    "_ = viz.visualize_image_attr_multiple(\n",
    "    np.transpose(attributions_ig_nt.squeeze().cpu().detach().numpy(), (1, 2, 0)),\n",
    "    np.transpose(transformed_img.squeeze().cpu().detach().numpy(), (1, 2, 0)),\n",
    "    [\"original_image\", \"heat_map\"],\n",
    "    [\"all\", \"positive\"],\n",
    "    cmap=default_cmap,\n",
    "    show_colorbar=True,\n",
    ")"
   ]
  },
  {
   "cell_type": "code",
   "execution_count": null,
   "metadata": {
    "colab": {
     "base_uri": "https://localhost:8080/",
     "height": 331
    },
    "executionInfo": {
     "elapsed": 1968,
     "status": "ok",
     "timestamp": 1666962914249,
     "user": {
      "displayName": "Gokul P V",
      "userId": "01488576985730312631"
     },
     "user_tz": -330
    },
    "id": "MxbXHFJquwtG",
    "outputId": "def78d5e-9703-4ef7-9875-9de0bf9f494f"
   },
   "outputs": [],
   "source": [
    "torch.manual_seed(0)\n",
    "np.random.seed(0)\n",
    "\n",
    "gradient_shap = GradientShap(model)\n",
    "\n",
    "# Defining baseline distribution of images\n",
    "rand_img_dist = torch.cat([img_tensor * 0, img_tensor * 1])\n",
    "\n",
    "attributions_gs = gradient_shap.attribute(\n",
    "    img_tensor, n_samples=50, stdevs=0.0001, baselines=rand_img_dist, target=pred_label_idx\n",
    ")\n",
    "_ = viz.visualize_image_attr_multiple(\n",
    "    np.transpose(attributions_gs.squeeze().cpu().detach().numpy(), (1, 2, 0)),\n",
    "    np.transpose(transformed_img.squeeze().cpu().detach().numpy(), (1, 2, 0)),\n",
    "    [\"original_image\", \"heat_map\"],\n",
    "    [\"all\", \"absolute_value\"],\n",
    "    cmap=default_cmap,\n",
    "    show_colorbar=True,\n",
    ")"
   ]
  },
  {
   "cell_type": "code",
   "execution_count": null,
   "metadata": {
    "id": "-WmL01Jdu5MP"
   },
   "outputs": [],
   "source": [
    "occlusion = Occlusion(model)\n",
    "\n",
    "attributions_occ = occlusion.attribute(\n",
    "    img_tensor,\n",
    "    strides=(3, 8, 8),\n",
    "    target=pred_label_idx,\n",
    "    sliding_window_shapes=(3, 15, 15),\n",
    "    baselines=0,\n",
    ")"
   ]
  },
  {
   "cell_type": "code",
   "execution_count": null,
   "metadata": {
    "colab": {
     "base_uri": "https://localhost:8080/",
     "height": 331
    },
    "executionInfo": {
     "elapsed": 2187,
     "status": "ok",
     "timestamp": 1666962940243,
     "user": {
      "displayName": "Gokul P V",
      "userId": "01488576985730312631"
     },
     "user_tz": -330
    },
    "id": "huwaAugUu7d7",
    "outputId": "b6fd0954-951f-4fc5-ac9a-afc0dc2625c1"
   },
   "outputs": [],
   "source": [
    "_ = viz.visualize_image_attr_multiple(\n",
    "    np.transpose(attributions_occ.squeeze().cpu().detach().numpy(), (1, 2, 0)),\n",
    "    np.transpose(transformed_img.squeeze().cpu().detach().numpy(), (1, 2, 0)),\n",
    "    [\"original_image\", \"heat_map\"],\n",
    "    [\"all\", \"positive\"],\n",
    "    show_colorbar=True,\n",
    "    outlier_perc=2,\n",
    ")"
   ]
  },
  {
   "cell_type": "code",
   "execution_count": null,
   "metadata": {
    "id": "HM87LDl0wUPC"
   },
   "outputs": [],
   "source": [
    "from captum.attr import DeepLift, IntegratedGradients, NoiseTunnel, Saliency\n",
    "from captum.attr import visualization as viz"
   ]
  },
  {
   "cell_type": "code",
   "execution_count": null,
   "metadata": {
    "id": "7CHUaoBiwWcZ"
   },
   "outputs": [],
   "source": [
    "transform = T.Compose(\n",
    "    [\n",
    "        T.Resize((224, 224)),\n",
    "        T.ToTensor(),\n",
    "        T.Normalize(mean=[0.485, 0.456, 0.406], std=[0.229, 0.224, 0.225]),\n",
    "    ]\n",
    ")\n",
    "\n",
    "img = Image.open(\"cat.jpeg\")\n",
    "\n",
    "img_tensor = transform(img)\n",
    "img_tensor = img_tensor.unsqueeze(0)\n",
    "img_tensor.requires_grad = True\n",
    "img_tensor = img_tensor.to(device)"
   ]
  },
  {
   "cell_type": "code",
   "execution_count": null,
   "metadata": {
    "colab": {
     "base_uri": "https://localhost:8080/"
    },
    "executionInfo": {
     "elapsed": 742,
     "status": "ok",
     "timestamp": 1666963316007,
     "user": {
      "displayName": "Gokul P V",
      "userId": "01488576985730312631"
     },
     "user_tz": -330
    },
    "id": "RcI8drjgwYjJ",
    "outputId": "42364b56-eab7-412a-d7b9-a0ee0b29bf39"
   },
   "outputs": [],
   "source": [
    "img_tensor.requires_grad"
   ]
  },
  {
   "cell_type": "code",
   "execution_count": null,
   "metadata": {
    "id": "HgzCapX_waOK"
   },
   "outputs": [],
   "source": [
    "saliency = Saliency(model)\n",
    "grads = saliency.attribute(img_tensor, target=285)\n",
    "grads = np.transpose(grads.squeeze().cpu().detach().numpy(), (1, 2, 0))"
   ]
  },
  {
   "cell_type": "code",
   "execution_count": null,
   "metadata": {
    "id": "IlwWnty3wd0b"
   },
   "outputs": [],
   "source": [
    "original_image = np.transpose((img_tensor.squeeze(0).cpu().detach().numpy() / 2) + 0.5, (1, 2, 0))"
   ]
  },
  {
   "cell_type": "code",
   "execution_count": null,
   "metadata": {
    "colab": {
     "base_uri": "https://localhost:8080/"
    },
    "executionInfo": {
     "elapsed": 463,
     "status": "ok",
     "timestamp": 1666963341895,
     "user": {
      "displayName": "Gokul P V",
      "userId": "01488576985730312631"
     },
     "user_tz": -330
    },
    "id": "rJDh1YWwwfhB",
    "outputId": "5d8dfa44-0c31-4dbf-cddd-76d2c7f44e2e"
   },
   "outputs": [],
   "source": [
    "original_image.shape"
   ]
  },
  {
   "cell_type": "code",
   "execution_count": null,
   "metadata": {
    "colab": {
     "base_uri": "https://localhost:8080/",
     "height": 391
    },
    "executionInfo": {
     "elapsed": 1882,
     "status": "ok",
     "timestamp": 1666963353380,
     "user": {
      "displayName": "Gokul P V",
      "userId": "01488576985730312631"
     },
     "user_tz": -330
    },
    "id": "8t447Ymdwhwc",
    "outputId": "4ac3100d-eb2b-40f7-ab9e-361e87c20ce2"
   },
   "outputs": [],
   "source": [
    "_ = viz.visualize_image_attr(None, original_image, method=\"original_image\", title=\"Original Image\")"
   ]
  },
  {
   "cell_type": "code",
   "execution_count": null,
   "metadata": {
    "colab": {
     "base_uri": "https://localhost:8080/",
     "height": 390
    },
    "executionInfo": {
     "elapsed": 1742,
     "status": "ok",
     "timestamp": 1666963370939,
     "user": {
      "displayName": "Gokul P V",
      "userId": "01488576985730312631"
     },
     "user_tz": -330
    },
    "id": "nHqxjBXowl1z",
    "outputId": "8359d752-60c5-4b73-e94b-ec811d1276fd"
   },
   "outputs": [],
   "source": [
    "_ = viz.visualize_image_attr(\n",
    "    grads,\n",
    "    original_image,\n",
    "    method=\"blended_heat_map\",\n",
    "    sign=\"absolute_value\",\n",
    "    show_colorbar=True,\n",
    "    title=\"Overlayed Gradient Magnitudes\",\n",
    ")"
   ]
  },
  {
   "cell_type": "code",
   "execution_count": null,
   "metadata": {
    "id": "QhUrMmSQxF60"
   },
   "outputs": [],
   "source": [
    "from pytorch_grad_cam import (\n",
    "    AblationCAM,\n",
    "    EigenCAM,\n",
    "    FullGrad,\n",
    "    GradCAM,\n",
    "    GradCAMPlusPlus,\n",
    "    HiResCAM,\n",
    "    ScoreCAM,\n",
    "    XGradCAM,\n",
    ")\n",
    "from pytorch_grad_cam.utils.image import show_cam_on_image\n",
    "from pytorch_grad_cam.utils.model_targets import ClassifierOutputTarget"
   ]
  },
  {
   "cell_type": "code",
   "execution_count": null,
   "metadata": {
    "id": "nqyGwe-uxH3f"
   },
   "outputs": [],
   "source": [
    "target_layers = [model.layer4[-1]]"
   ]
  },
  {
   "cell_type": "code",
   "execution_count": null,
   "metadata": {
    "id": "Eg9aIuXpxJsE"
   },
   "outputs": [],
   "source": [
    "cam = GradCAM(model=model, target_layers=target_layers, use_cuda=True)"
   ]
  },
  {
   "cell_type": "code",
   "execution_count": null,
   "metadata": {
    "id": "fpA2VRpFx4cX"
   },
   "outputs": [],
   "source": [
    "transform = T.Compose(\n",
    "    [\n",
    "        T.Resize((224, 224)),\n",
    "        T.ToTensor(),\n",
    "        T.Normalize(mean=[0.485, 0.456, 0.406], std=[0.229, 0.224, 0.225]),\n",
    "    ]\n",
    ")\n",
    "\n",
    "img = Image.open(\"cat.jpeg\")\n",
    "\n",
    "img_tensor = transform(img)\n",
    "img_tensor = img_tensor.unsqueeze(0)\n",
    "img_tensor.requires_grad = True\n",
    "img_tensor = img_tensor.to(device)"
   ]
  },
  {
   "cell_type": "code",
   "execution_count": null,
   "metadata": {
    "id": "N8KBHyLcxLp1"
   },
   "outputs": [],
   "source": [
    "targets = [ClassifierOutputTarget(281)]\n",
    "\n",
    "# You can also pass aug_smooth=True and eigen_smooth=True, to apply smoothing.\n",
    "grayscale_cam = cam(input_tensor=img_tensor, targets=targets)"
   ]
  },
  {
   "cell_type": "code",
   "execution_count": null,
   "metadata": {
    "id": "1eoi7PiTxYtt"
   },
   "outputs": [],
   "source": [
    "mean = [0.485, 0.456, 0.406]\n",
    "std = [0.229, 0.224, 0.225]\n",
    "inv_transform = T.Compose(\n",
    "    [\n",
    "        T.Normalize(\n",
    "            mean=(-1 * np.array(mean) / np.array(std)).tolist(), std=(1 / np.array(std)).tolist()\n",
    "        ),\n",
    "    ]\n",
    ")"
   ]
  },
  {
   "cell_type": "code",
   "execution_count": null,
   "metadata": {
    "id": "j0h7qXflxOJG"
   },
   "outputs": [],
   "source": [
    "# In this example grayscale_cam has only one image in the batch:\n",
    "grayscale_cam = grayscale_cam[0, :]\n",
    "rgb_img = inv_transform(img_tensor).cpu().squeeze().permute(1, 2, 0).detach().numpy()\n",
    "visualization = show_cam_on_image(rgb_img, grayscale_cam, use_rgb=True)"
   ]
  },
  {
   "cell_type": "code",
   "execution_count": null,
   "metadata": {
    "colab": {
     "base_uri": "https://localhost:8080/",
     "height": 287
    },
    "executionInfo": {
     "elapsed": 11,
     "status": "ok",
     "timestamp": 1666963722628,
     "user": {
      "displayName": "Gokul P V",
      "userId": "01488576985730312631"
     },
     "user_tz": -330
    },
    "id": "SOuJrzaLxcjP",
    "outputId": "d342bbe4-f744-4ce2-f00a-1893234bbf13"
   },
   "outputs": [],
   "source": [
    "plt.imshow(visualization)"
   ]
  },
  {
   "cell_type": "code",
   "execution_count": null,
   "metadata": {
    "id": "eYE4fx4Tx_o3"
   },
   "outputs": [],
   "source": [
    "# from pytorch_grad_cam import GradCAMPlusPlus"
   ]
  },
  {
   "cell_type": "code",
   "execution_count": null,
   "metadata": {
    "id": "t1XPD67byEM_"
   },
   "outputs": [],
   "source": [
    "cam = GradCAMPlusPlus(model=model, target_layers=target_layers, use_cuda=True)"
   ]
  },
  {
   "cell_type": "code",
   "execution_count": null,
   "metadata": {
    "id": "WApH8jxayGHT"
   },
   "outputs": [],
   "source": [
    "grayscale_cam = cam(input_tensor=img_tensor, targets=targets)"
   ]
  },
  {
   "cell_type": "code",
   "execution_count": null,
   "metadata": {
    "id": "r-lQieAeyIE4"
   },
   "outputs": [],
   "source": [
    "# In this example grayscale_cam has only one image in the batch:\n",
    "grayscale_cam = grayscale_cam[0, :]\n",
    "rgb_img = inv_transform(img_tensor).cpu().squeeze().permute(1, 2, 0).detach().numpy()\n",
    "visualization = show_cam_on_image(rgb_img, grayscale_cam, use_rgb=True)"
   ]
  },
  {
   "cell_type": "code",
   "execution_count": null,
   "metadata": {
    "colab": {
     "base_uri": "https://localhost:8080/",
     "height": 287
    },
    "executionInfo": {
     "elapsed": 1826,
     "status": "ok",
     "timestamp": 1666963779800,
     "user": {
      "displayName": "Gokul P V",
      "userId": "01488576985730312631"
     },
     "user_tz": -330
    },
    "id": "AvATLIbQyJ7Z",
    "outputId": "2e0c306b-96a5-440b-fecf-38808288d3e2"
   },
   "outputs": [],
   "source": [
    "plt.imshow(visualization)"
   ]
  },
  {
   "cell_type": "code",
   "execution_count": null,
   "metadata": {
    "executionInfo": {
     "elapsed": 343,
     "status": "ok",
     "timestamp": 1667137235886,
     "user": {
      "displayName": "Gokul P V",
      "userId": "03397594141489319853"
     },
     "user_tz": -330
    },
    "id": "ZEI6vjZ5GKGl"
   },
   "outputs": [],
   "source": [
    "from captum.robust import FGSM, PGD"
   ]
  },
  {
   "cell_type": "code",
   "execution_count": null,
   "metadata": {
    "executionInfo": {
     "elapsed": 335,
     "status": "ok",
     "timestamp": 1667137245364,
     "user": {
      "displayName": "Gokul P V",
      "userId": "03397594141489319853"
     },
     "user_tz": -330
    },
    "id": "m0xhys1mH20d"
   },
   "outputs": [],
   "source": [
    "transform = T.Compose(\n",
    "    [\n",
    "        T.Resize((224, 224)),\n",
    "        T.ToTensor(),\n",
    "        T.Normalize(mean=[0.485, 0.456, 0.406], std=[0.229, 0.224, 0.225]),\n",
    "    ]\n",
    ")\n",
    "\n",
    "img = Image.open(\"cat.jpeg\")\n",
    "\n",
    "img_tensor = transform(img)\n",
    "img_tensor = img_tensor.unsqueeze(0)\n",
    "img_tensor.requires_grad = True\n",
    "img_tensor = img_tensor.to(device)"
   ]
  },
  {
   "cell_type": "code",
   "execution_count": null,
   "metadata": {
    "executionInfo": {
     "elapsed": 481,
     "status": "ok",
     "timestamp": 1667137255336,
     "user": {
      "displayName": "Gokul P V",
      "userId": "03397594141489319853"
     },
     "user_tz": -330
    },
    "id": "rJ8QIY-aH5P7"
   },
   "outputs": [],
   "source": [
    "mean = [0.485, 0.456, 0.406]\n",
    "std = [0.229, 0.224, 0.225]\n",
    "inv_transform = T.Compose(\n",
    "    [\n",
    "        T.Normalize(\n",
    "            mean=(-1 * np.array(mean) / np.array(std)).tolist(), std=(1 / np.array(std)).tolist()\n",
    "        ),\n",
    "    ]\n",
    ")"
   ]
  },
  {
   "cell_type": "code",
   "execution_count": null,
   "metadata": {
    "executionInfo": {
     "elapsed": 458,
     "status": "ok",
     "timestamp": 1667137267809,
     "user": {
      "displayName": "Gokul P V",
      "userId": "03397594141489319853"
     },
     "user_tz": -330
    },
    "id": "1rsUI1NRH78D"
   },
   "outputs": [],
   "source": [
    "def get_prediction(model, image: torch.Tensor):\n",
    "    model = model.to(device)\n",
    "    img_tensor = image.to(device)\n",
    "    with torch.no_grad():\n",
    "        output = model(img_tensor)\n",
    "    output = F.softmax(output, dim=1)\n",
    "    prediction_score, pred_label_idx = torch.topk(output, 1)\n",
    "\n",
    "    pred_label_idx.squeeze_()\n",
    "    predicted_label = categories[pred_label_idx.item()]\n",
    "\n",
    "    return predicted_label, prediction_score.squeeze().item()\n",
    "\n",
    "    # print('Predicted:', predicted_label, '(', prediction_score.squeeze().item(), ')')"
   ]
  },
  {
   "cell_type": "code",
   "execution_count": null,
   "metadata": {
    "executionInfo": {
     "elapsed": 5535,
     "status": "ok",
     "timestamp": 1667137287806,
     "user": {
      "displayName": "Gokul P V",
      "userId": "03397594141489319853"
     },
     "user_tz": -330
    },
    "id": "Hdr-T5VBH_82"
   },
   "outputs": [],
   "source": [
    "# Get original prediction\n",
    "pred, score = get_prediction(model, img_tensor)"
   ]
  },
  {
   "cell_type": "code",
   "execution_count": null,
   "metadata": {
    "executionInfo": {
     "elapsed": 518,
     "status": "ok",
     "timestamp": 1667137291840,
     "user": {
      "displayName": "Gokul P V",
      "userId": "03397594141489319853"
     },
     "user_tz": -330
    },
    "id": "HPX_YrhwIDgk"
   },
   "outputs": [],
   "source": [
    "def image_show(img, pred):\n",
    "    npimg = inv_transform(img).squeeze().permute(1, 2, 0).detach().numpy()\n",
    "    plt.imshow(npimg)\n",
    "    plt.title(\"prediction: %s\" % pred)\n",
    "    plt.show()"
   ]
  },
  {
   "cell_type": "code",
   "execution_count": null,
   "metadata": {
    "colab": {
     "base_uri": "https://localhost:8080/",
     "height": 281
    },
    "executionInfo": {
     "elapsed": 1323,
     "status": "ok",
     "timestamp": 1667137306215,
     "user": {
      "displayName": "Gokul P V",
      "userId": "03397594141489319853"
     },
     "user_tz": -330
    },
    "id": "zh7JohBpIEgz",
    "outputId": "8a04e703-23bb-4976-ed2c-55c3db1b7aeb"
   },
   "outputs": [],
   "source": [
    "image_show(img_tensor.cpu(), pred + \" \" + str(score))"
   ]
  },
  {
   "cell_type": "code",
   "execution_count": null,
   "metadata": {
    "executionInfo": {
     "elapsed": 919,
     "status": "ok",
     "timestamp": 1667137323653,
     "user": {
      "displayName": "Gokul P V",
      "userId": "03397594141489319853"
     },
     "user_tz": -330
    },
    "id": "1ioDFSClIHx8"
   },
   "outputs": [],
   "source": [
    "# Construct FGSM attacker\n",
    "fgsm = FGSM(model, lower_bound=-1, upper_bound=1)\n",
    "perturbed_image_fgsm = fgsm.perturb(img_tensor, epsilon=0.16, target=285)\n",
    "new_pred_fgsm, score_fgsm = get_prediction(model, perturbed_image_fgsm)"
   ]
  },
  {
   "cell_type": "code",
   "execution_count": null,
   "metadata": {
    "colab": {
     "base_uri": "https://localhost:8080/",
     "height": 281
    },
    "executionInfo": {
     "elapsed": 941,
     "status": "ok",
     "timestamp": 1667137336678,
     "user": {
      "displayName": "Gokul P V",
      "userId": "03397594141489319853"
     },
     "user_tz": -330
    },
    "id": "12lAPLr7IMd2",
    "outputId": "00909359-aba5-4721-81e4-967a33daf920"
   },
   "outputs": [],
   "source": [
    "image_show(perturbed_image_fgsm.cpu(), new_pred_fgsm + \" \" + str(score_fgsm))"
   ]
  },
  {
   "cell_type": "code",
   "execution_count": null,
   "metadata": {
    "colab": {
     "base_uri": "https://localhost:8080/"
    },
    "executionInfo": {
     "elapsed": 591,
     "status": "ok",
     "timestamp": 1667137378489,
     "user": {
      "displayName": "Gokul P V",
      "userId": "03397594141489319853"
     },
     "user_tz": -330
    },
    "id": "y5fIpyrqIW6b",
    "outputId": "b55509d5-3844-42cc-8a1c-35cf09c645b6"
   },
   "outputs": [],
   "source": [
    "pgd = PGD(\n",
    "    model, torch.nn.CrossEntropyLoss(reduction=\"none\"), lower_bound=-1, upper_bound=1\n",
    ")  # construct the PGD attacker\n",
    "\n",
    "perturbed_image_pgd = pgd.perturb(\n",
    "    inputs=img_tensor,\n",
    "    radius=0.13,\n",
    "    step_size=0.02,\n",
    "    step_num=7,\n",
    "    target=torch.tensor([199]).to(device),\n",
    "    targeted=True,\n",
    ")\n",
    "new_pred_pgd, score_pgd = get_prediction(model, perturbed_image_pgd)"
   ]
  },
  {
   "cell_type": "code",
   "execution_count": null,
   "metadata": {
    "colab": {
     "base_uri": "https://localhost:8080/",
     "height": 281
    },
    "executionInfo": {
     "elapsed": 880,
     "status": "ok",
     "timestamp": 1667137408594,
     "user": {
      "displayName": "Gokul P V",
      "userId": "03397594141489319853"
     },
     "user_tz": -330
    },
    "id": "2kBEIkWIIZ-U",
    "outputId": "95b7790e-567b-428a-ed3c-052e689040cd"
   },
   "outputs": [],
   "source": [
    "image_show(perturbed_image_pgd.cpu(), new_pred_pgd + \" \" + str(score_pgd))"
   ]
  },
  {
   "cell_type": "code",
   "execution_count": null,
   "metadata": {
    "colab": {
     "base_uri": "https://localhost:8080/"
    },
    "executionInfo": {
     "elapsed": 560,
     "status": "ok",
     "timestamp": 1667137559140,
     "user": {
      "displayName": "Gokul P V",
      "userId": "03397594141489319853"
     },
     "user_tz": -330
    },
    "id": "PIKhNB8MJEvF",
    "outputId": "84a365aa-d31d-4182-de87-f157f4179bf5"
   },
   "outputs": [],
   "source": [
    "feature_mask = (\n",
    "    torch.arange(64 * 7 * 7)\n",
    "    .reshape(8 * 7, 8 * 7)\n",
    "    .repeat_interleave(repeats=4, dim=1)\n",
    "    .repeat_interleave(repeats=4, dim=0)\n",
    "    .reshape(1, 1, 224, 224)\n",
    ")\n",
    "print(feature_mask)"
   ]
  },
  {
   "cell_type": "code",
   "execution_count": null,
   "metadata": {
    "colab": {
     "base_uri": "https://localhost:8080/"
    },
    "executionInfo": {
     "elapsed": 1257,
     "status": "ok",
     "timestamp": 1667137569139,
     "user": {
      "displayName": "Gokul P V",
      "userId": "03397594141489319853"
     },
     "user_tz": -330
    },
    "id": "PKtBgYCtJGKk",
    "outputId": "1b2c0df6-d80f-463e-a0f0-eaf29399cdb5"
   },
   "outputs": [],
   "source": [
    "feature_mask.shape"
   ]
  },
  {
   "cell_type": "code",
   "execution_count": null,
   "metadata": {
    "colab": {
     "base_uri": "https://localhost:8080/"
    },
    "executionInfo": {
     "elapsed": 392,
     "status": "ok",
     "timestamp": 1667137946895,
     "user": {
      "displayName": "Gokul P V",
      "userId": "03397594141489319853"
     },
     "user_tz": -330
    },
    "id": "G4mpC7QKJO6G",
    "outputId": "31ff4234-21ca-4f67-c78a-7d3fb36c4428"
   },
   "outputs": [],
   "source": [
    "print(feature_mask.to(device))\n",
    "print(img_tensor.device)"
   ]
  },
  {
   "cell_type": "code",
   "execution_count": null,
   "metadata": {
    "executionInfo": {
     "elapsed": 11811,
     "status": "ok",
     "timestamp": 1667137978379,
     "user": {
      "displayName": "Gokul P V",
      "userId": "03397594141489319853"
     },
     "user_tz": -330
    },
    "id": "GJGHJkzvJH7A"
   },
   "outputs": [],
   "source": [
    "from captum.attr import FeatureAblation\n",
    "\n",
    "ablator = FeatureAblation(model)\n",
    "attr = ablator.attribute(img_tensor, target=285, feature_mask=feature_mask.to(device))\n",
    "# Choose single channel, all channels have same attribution scores\n",
    "pixel_attr = attr[:, 0:1]"
   ]
  },
  {
   "cell_type": "code",
   "execution_count": null,
   "metadata": {
    "executionInfo": {
     "elapsed": 608,
     "status": "ok",
     "timestamp": 1667137808461,
     "user": {
      "displayName": "Gokul P V",
      "userId": "03397594141489319853"
     },
     "user_tz": -330
    },
    "id": "z17i24pHJLn0"
   },
   "outputs": [],
   "source": [
    "def pixel_dropout(image, dropout_pixels):\n",
    "    keep_pixels = image[0][0].numel() - int(dropout_pixels)\n",
    "    vals, _ = torch.kthvalue(pixel_attr.flatten(), keep_pixels)\n",
    "    return (pixel_attr < vals.item()) * image"
   ]
  },
  {
   "cell_type": "code",
   "execution_count": null,
   "metadata": {
    "executionInfo": {
     "elapsed": 348,
     "status": "ok",
     "timestamp": 1667137819641,
     "user": {
      "displayName": "Gokul P V",
      "userId": "03397594141489319853"
     },
     "user_tz": -330
    },
    "id": "L0t0zQo8KC42"
   },
   "outputs": [],
   "source": [
    "from captum.robust import MinParamPerturbation\n",
    "\n",
    "min_pert_attr = MinParamPerturbation(\n",
    "    forward_func=model,\n",
    "    attack=pixel_dropout,\n",
    "    arg_name=\"dropout_pixels\",\n",
    "    mode=\"linear\",\n",
    "    arg_min=0,\n",
    "    arg_max=1024,\n",
    "    arg_step=16,\n",
    "    preproc_fn=None,\n",
    "    apply_before_preproc=True,\n",
    ")"
   ]
  },
  {
   "cell_type": "code",
   "execution_count": null,
   "metadata": {
    "colab": {
     "base_uri": "https://localhost:8080/"
    },
    "executionInfo": {
     "elapsed": 612,
     "status": "ok",
     "timestamp": 1667137983693,
     "user": {
      "displayName": "Gokul P V",
      "userId": "03397594141489319853"
     },
     "user_tz": -330
    },
    "id": "C-7QTCmrKFp9",
    "outputId": "c77d18dd-f97a-4d33-de4d-7026d4d2a6f2"
   },
   "outputs": [],
   "source": [
    "pixel_dropout_im, pixels_dropped = min_pert_attr.evaluate(\n",
    "    img_tensor, target=285, perturbations_per_eval=10\n",
    ")\n",
    "print(\"Minimum Pixels Dropped:\", pixels_dropped)"
   ]
  },
  {
   "cell_type": "code",
   "execution_count": null,
   "metadata": {
    "executionInfo": {
     "elapsed": 7,
     "status": "ok",
     "timestamp": 1667137996722,
     "user": {
      "displayName": "Gokul P V",
      "userId": "03397594141489319853"
     },
     "user_tz": -330
    },
    "id": "n1NBDbdMKJXO"
   },
   "outputs": [],
   "source": [
    "new_pred_dropout, score_dropout = get_prediction(model, pixel_dropout_im)"
   ]
  },
  {
   "cell_type": "code",
   "execution_count": null,
   "metadata": {
    "colab": {
     "base_uri": "https://localhost:8080/",
     "height": 281
    },
    "executionInfo": {
     "elapsed": 1081,
     "status": "ok",
     "timestamp": 1667138005024,
     "user": {
      "displayName": "Gokul P V",
      "userId": "03397594141489319853"
     },
     "user_tz": -330
    },
    "id": "9XEL4aY9Kwcp",
    "outputId": "441e7f55-5726-4127-c4a4-60e555a4ba58"
   },
   "outputs": [],
   "source": [
    "image_show(pixel_dropout_im.cpu(), new_pred_dropout + \" \" + str(score_dropout))"
   ]
  },
  {
   "cell_type": "code",
   "execution_count": null,
   "metadata": {
    "executionInfo": {
     "elapsed": 592,
     "status": "ok",
     "timestamp": 1667147663112,
     "user": {
      "displayName": "Gokul P V",
      "userId": "03397594141489319853"
     },
     "user_tz": -330
    },
    "id": "oMqUB6GbLEI-"
   },
   "outputs": [],
   "source": [
    "import albumentations as A\n",
    "from albumentations.pytorch import ToTensorV2"
   ]
  },
  {
   "cell_type": "code",
   "execution_count": null,
   "metadata": {
    "executionInfo": {
     "elapsed": 5,
     "status": "ok",
     "timestamp": 1667147664856,
     "user": {
      "displayName": "Gokul P V",
      "userId": "03397594141489319853"
     },
     "user_tz": -330
    },
    "id": "D1ovujjaLE_V"
   },
   "outputs": [],
   "source": [
    "transform = A.Compose([\n",
    "    A.Normalize(mean=channel_means, std=channel_stdevs)\n",
    "    A.GaussNoise(p=0.5)\n",
    "    # A.RandomBrightnessContrast(p=0.5),\n",
    "    ToTensorV2(),\n",
    "    \n",
    "])"
   ]
  },
  {
   "cell_type": "code",
   "execution_count": null,
   "metadata": {
    "executionInfo": {
     "elapsed": 5,
     "status": "ok",
     "timestamp": 1667147666825,
     "user": {
      "displayName": "Gokul P V",
      "userId": "03397594141489319853"
     },
     "user_tz": -330
    },
    "id": "S2pKJdaKLIYJ"
   },
   "outputs": [],
   "source": [
    "img = Image.open(\"cat.jpeg\")\n",
    "img = np.array(img)\n",
    "\n",
    "img_tensor = transform(image=img)[\"image\"]\n",
    "img_tensor = img_tensor.unsqueeze(0)\n",
    "# img_tensor.requires_grad = True\n",
    "img_tensor = img_tensor.to(device)"
   ]
  },
  {
   "cell_type": "code",
   "execution_count": null,
   "metadata": {
    "colab": {
     "base_uri": "https://localhost:8080/"
    },
    "executionInfo": {
     "elapsed": 322,
     "status": "ok",
     "timestamp": 1667147378092,
     "user": {
      "displayName": "Gokul P V",
      "userId": "03397594141489319853"
     },
     "user_tz": -330
    },
    "id": "Md0KXH5KONTi",
    "outputId": "4e7572ca-249c-4506-8247-489a91fdf7ce"
   },
   "outputs": [],
   "source": [
    "print(type(img_tensor))"
   ]
  },
  {
   "cell_type": "code",
   "execution_count": null,
   "metadata": {
    "colab": {
     "base_uri": "https://localhost:8080/",
     "height": 287
    },
    "executionInfo": {
     "elapsed": 13,
     "status": "ok",
     "timestamp": 1667147669269,
     "user": {
      "displayName": "Gokul P V",
      "userId": "03397594141489319853"
     },
     "user_tz": -330
    },
    "id": "GWVSURWzORag",
    "outputId": "fd22ae48-5532-4995-a8ad-3174a24e7c68"
   },
   "outputs": [],
   "source": [
    "plt.imshow(img_tensor.squeeze().permute(1, 2, 0).detach().cpu().numpy())"
   ]
  },
  {
   "cell_type": "code",
   "execution_count": null,
   "metadata": {
    "colab": {
     "base_uri": "https://localhost:8080/"
    },
    "executionInfo": {
     "elapsed": 625,
     "status": "ok",
     "timestamp": 1667147675012,
     "user": {
      "displayName": "Gokul P V",
      "userId": "03397594141489319853"
     },
     "user_tz": -330
    },
    "id": "UCuFfCkjsBXe",
    "outputId": "2351c197-926e-47fe-c6bc-a74e4bba3f9e"
   },
   "outputs": [],
   "source": [
    "output = model(img_tensor.float())\n",
    "output = F.softmax(output, dim=1)\n",
    "prediction_score, pred_label_idx = torch.topk(output, 1)\n",
    "\n",
    "pred_label_idx.squeeze_()\n",
    "predicted_label = categories[pred_label_idx.item()]\n",
    "\n",
    "print(\"pred=\", predicted_label)\n",
    "print(\"score=\", prediction_score)\n",
    "print(\"index=\", pred_label_idx)"
   ]
  },
  {
   "cell_type": "code",
   "execution_count": null,
   "metadata": {
    "id": "B-pkVuoKtkB_"
   },
   "outputs": [],
   "source": [
    "print(model)"
   ]
  }
 ],
 "metadata": {
  "accelerator": "GPU",
  "colab": {
   "collapsed_sections": [],
   "provenance": []
  },
  "gpuClass": "standard",
  "kernelspec": {
   "display_name": "Python 3",
   "name": "python3"
  },
  "language_info": {
   "name": "python"
  }
 },
 "nbformat": 4,
 "nbformat_minor": 0
}
