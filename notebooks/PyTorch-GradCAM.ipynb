{
 "cells": [
  {
   "cell_type": "code",
   "execution_count": null,
   "metadata": {
    "colab": {
     "base_uri": "https://localhost:8080/"
    },
    "executionInfo": {
     "elapsed": 315,
     "status": "ok",
     "timestamp": 1666188703043,
     "user": {
      "displayName": "Satyajit Ghana",
      "userId": "01212802151232037951"
     },
     "user_tz": -330
    },
    "id": "DMPbgD4VZGmK",
    "outputId": "438e61b4-530d-444b-e2b4-17ee796c400b"
   },
   "outputs": [],
   "source": [
    "# ! nvidia-smi"
   ]
  },
  {
   "cell_type": "code",
   "execution_count": null,
   "metadata": {
    "colab": {
     "base_uri": "https://localhost:8080/"
    },
    "executionInfo": {
     "elapsed": 12835,
     "status": "ok",
     "timestamp": 1666192323575,
     "user": {
      "displayName": "Satyajit Ghana",
      "userId": "01212802151232037951"
     },
     "user_tz": -330
    },
    "id": "vHEeuLtFLj1h",
    "outputId": "2d26070e-78df-4f54-f7c5-4b3a6505bff8"
   },
   "outputs": [],
   "source": [
    "%pip install captum timm shap grad-cam"
   ]
  },
  {
   "cell_type": "markdown",
   "metadata": {
    "id": "wAXno_s0Eg50"
   },
   "source": []
  },
  {
   "cell_type": "code",
   "execution_count": null,
   "metadata": {
    "executionInfo": {
     "elapsed": 3159,
     "status": "ok",
     "timestamp": 1666188709693,
     "user": {
      "displayName": "Satyajit Ghana",
      "userId": "01212802151232037951"
     },
     "user_tz": -330
    },
    "id": "h3i-yeQ0E4ZD"
   },
   "outputs": [],
   "source": [
    "import urllib\n",
    "\n",
    "import matplotlib.pyplot as plt\n",
    "import numpy as np\n",
    "import timm\n",
    "import torch\n",
    "import torch.nn.functional as F\n",
    "import torchvision.transforms as T\n",
    "from matplotlib.colors import LinearSegmentedColormap\n",
    "from PIL import Image"
   ]
  },
  {
   "cell_type": "code",
   "execution_count": null,
   "metadata": {
    "executionInfo": {
     "elapsed": 3,
     "status": "ok",
     "timestamp": 1666188709693,
     "user": {
      "displayName": "Satyajit Ghana",
      "userId": "01212802151232037951"
     },
     "user_tz": -330
    },
    "id": "yk3HrMNzZMDW"
   },
   "outputs": [],
   "source": [
    "device = torch.device(\"cuda\")"
   ]
  },
  {
   "cell_type": "code",
   "execution_count": null,
   "metadata": {
    "executionInfo": {
     "elapsed": 4191,
     "status": "ok",
     "timestamp": 1666188713881,
     "user": {
      "displayName": "Satyajit Ghana",
      "userId": "01212802151232037951"
     },
     "user_tz": -330
    },
    "id": "BCas6kIVE6VU"
   },
   "outputs": [],
   "source": [
    "model = timm.create_model(\"resnet18\", pretrained=True)\n",
    "model.eval()\n",
    "model = model.to(device)"
   ]
  },
  {
   "cell_type": "code",
   "execution_count": null,
   "metadata": {
    "executionInfo": {
     "elapsed": 546,
     "status": "ok",
     "timestamp": 1666188714426,
     "user": {
      "displayName": "Satyajit Ghana",
      "userId": "01212802151232037951"
     },
     "user_tz": -330
    },
    "id": "TmXZI9cQEe8D"
   },
   "outputs": [],
   "source": [
    "# Download human-readable labels for ImageNet.\n",
    "# get the classnames\n",
    "url, filename = (\n",
    "    \"https://raw.githubusercontent.com/pytorch/hub/master/imagenet_classes.txt\",\n",
    "    \"imagenet_classes.txt\",\n",
    ")\n",
    "urllib.request.urlretrieve(url, filename)\n",
    "with open(\"imagenet_classes.txt\", \"r\") as f:\n",
    "    categories = [s.strip() for s in f.readlines()]"
   ]
  },
  {
   "cell_type": "code",
   "execution_count": null,
   "metadata": {
    "colab": {
     "base_uri": "https://localhost:8080/"
    },
    "executionInfo": {
     "elapsed": 4,
     "status": "ok",
     "timestamp": 1666188714426,
     "user": {
      "displayName": "Satyajit Ghana",
      "userId": "01212802151232037951"
     },
     "user_tz": -330
    },
    "id": "L7sk1FzOFjNy",
    "outputId": "5d6d528d-87dd-4a46-876e-5be2f01736e4"
   },
   "outputs": [],
   "source": [
    "# ! wget -O cat.jpeg \"https://encrypted-tbn0.gstatic.com/images?q=tbn:ANd9GcSKr5wT7rfkjkGvNeqgXjBmarC5ZNoZs-H2uMpML8O7Q4F9W-IlUQibBT6IPqyvX45NOgw&usqp=CAU\""
   ]
  },
  {
   "cell_type": "code",
   "execution_count": null,
   "metadata": {
    "executionInfo": {
     "elapsed": 2,
     "status": "ok",
     "timestamp": 1666188714426,
     "user": {
      "displayName": "Satyajit Ghana",
      "userId": "01212802151232037951"
     },
     "user_tz": -330
    },
    "id": "qd7CxxSZFAcn"
   },
   "outputs": [],
   "source": [
    "transform = T.Compose([T.Resize(256), T.CenterCrop(224), T.ToTensor()])\n",
    "\n",
    "transform_normalize = T.Normalize(mean=[0.485, 0.456, 0.406], std=[0.229, 0.224, 0.225])\n",
    "\n",
    "img = Image.open(\"cat.jpeg\")\n",
    "\n",
    "transformed_img = transform(img)\n",
    "\n",
    "img_tensor = transform_normalize(transformed_img)\n",
    "img_tensor = img_tensor.unsqueeze(0)"
   ]
  },
  {
   "cell_type": "code",
   "execution_count": null,
   "metadata": {
    "colab": {
     "base_uri": "https://localhost:8080/"
    },
    "executionInfo": {
     "elapsed": 7462,
     "status": "ok",
     "timestamp": 1666188721887,
     "user": {
      "displayName": "Satyajit Ghana",
      "userId": "01212802151232037951"
     },
     "user_tz": -330
    },
    "id": "vAJ-fRYEFBYo",
    "outputId": "39b08324-9824-471d-dc79-2a77cbae3f6f"
   },
   "outputs": [],
   "source": [
    "img_tensor = img_tensor.to(device)\n",
    "output = model(img_tensor)\n",
    "output = F.softmax(output, dim=1)\n",
    "prediction_score, pred_label_idx = torch.topk(output, 1)\n",
    "\n",
    "pred_label_idx.squeeze_()\n",
    "predicted_label = categories[pred_label_idx.item()]\n",
    "print(\"Predicted:\", predicted_label, \"(\", prediction_score.squeeze().item(), \")\")"
   ]
  },
  {
   "cell_type": "code",
   "execution_count": null,
   "metadata": {
    "colab": {
     "base_uri": "https://localhost:8080/"
    },
    "executionInfo": {
     "elapsed": 4,
     "status": "ok",
     "timestamp": 1666188721888,
     "user": {
      "displayName": "Satyajit Ghana",
      "userId": "01212802151232037951"
     },
     "user_tz": -330
    },
    "id": "72Ty3is_bLMu",
    "outputId": "415c87d4-1b1b-4caa-ce56-9246ea77be21"
   },
   "outputs": [],
   "source": [
    "pred_label_idx"
   ]
  },
  {
   "cell_type": "markdown",
   "metadata": {
    "id": "LIRpP1KPliar"
   },
   "source": [
    "## Captum Model Interpretation"
   ]
  },
  {
   "cell_type": "code",
   "execution_count": null,
   "metadata": {
    "executionInfo": {
     "elapsed": 1,
     "status": "ok",
     "timestamp": 1666188732115,
     "user": {
      "displayName": "Satyajit Ghana",
      "userId": "01212802151232037951"
     },
     "user_tz": -330
    },
    "id": "dRVKBGCwF99X"
   },
   "outputs": [],
   "source": [
    "from captum.attr import GradientShap, IntegratedGradients, NoiseTunnel, Occlusion\n",
    "from captum.attr import visualization as viz"
   ]
  },
  {
   "cell_type": "code",
   "execution_count": null,
   "metadata": {
    "colab": {
     "base_uri": "https://localhost:8080/"
    },
    "executionInfo": {
     "elapsed": 1149,
     "status": "ok",
     "timestamp": 1666188168396,
     "user": {
      "displayName": "Satyajit Ghana",
      "userId": "01212802151232037951"
     },
     "user_tz": -330
    },
    "id": "mJ71b3MSGqsv",
    "outputId": "361aeb4d-4350-4ec2-cc24-f26fd6feffa0"
   },
   "outputs": [],
   "source": [
    "print(\"Predicted:\", predicted_label, \"(\", prediction_score.squeeze().item(), \")\")\n",
    "\n",
    "integrated_gradients = IntegratedGradients(model)\n",
    "attributions_ig = integrated_gradients.attribute(img_tensor, target=pred_label_idx, n_steps=200)"
   ]
  },
  {
   "cell_type": "code",
   "execution_count": null,
   "metadata": {
    "colab": {
     "base_uri": "https://localhost:8080/",
     "height": 374
    },
    "executionInfo": {
     "elapsed": 1388,
     "status": "ok",
     "timestamp": 1666188169782,
     "user": {
      "displayName": "Satyajit Ghana",
      "userId": "01212802151232037951"
     },
     "user_tz": -330
    },
    "id": "JwxLT1azGaBU",
    "outputId": "34ee11cc-397f-4277-b4bd-0c6bfffa2deb"
   },
   "outputs": [],
   "source": [
    "default_cmap = LinearSegmentedColormap.from_list(\n",
    "    \"custom blue\", [(0, \"#ffffff\"), (0.25, \"#000000\"), (1, \"#000000\")], N=256\n",
    ")\n",
    "\n",
    "_ = viz.visualize_image_attr(\n",
    "    np.transpose(attributions_ig.squeeze().cpu().detach().numpy(), (1, 2, 0)),\n",
    "    np.transpose(transformed_img.squeeze().cpu().detach().numpy(), (1, 2, 0)),\n",
    "    method=\"heat_map\",\n",
    "    cmap=default_cmap,\n",
    "    show_colorbar=True,\n",
    "    sign=\"positive\",\n",
    "    outlier_perc=1,\n",
    ")"
   ]
  },
  {
   "cell_type": "code",
   "execution_count": null,
   "metadata": {
    "colab": {
     "base_uri": "https://localhost:8080/",
     "height": 332
    },
    "executionInfo": {
     "elapsed": 3052,
     "status": "ok",
     "timestamp": 1666188172820,
     "user": {
      "displayName": "Satyajit Ghana",
      "userId": "01212802151232037951"
     },
     "user_tz": -330
    },
    "id": "i06JvXvLGL1C",
    "outputId": "513ad428-7890-4567-d32f-a98a42b8a30b"
   },
   "outputs": [],
   "source": [
    "noise_tunnel = NoiseTunnel(integrated_gradients)\n",
    "\n",
    "attributions_ig_nt = noise_tunnel.attribute(\n",
    "    img_tensor, nt_samples=10, nt_type=\"smoothgrad_sq\", target=pred_label_idx\n",
    ")\n",
    "_ = viz.visualize_image_attr_multiple(\n",
    "    np.transpose(attributions_ig_nt.squeeze().cpu().detach().numpy(), (1, 2, 0)),\n",
    "    np.transpose(transformed_img.squeeze().cpu().detach().numpy(), (1, 2, 0)),\n",
    "    [\"original_image\", \"heat_map\"],\n",
    "    [\"all\", \"positive\"],\n",
    "    cmap=default_cmap,\n",
    "    show_colorbar=True,\n",
    ")"
   ]
  },
  {
   "cell_type": "code",
   "execution_count": null,
   "metadata": {
    "colab": {
     "base_uri": "https://localhost:8080/",
     "height": 332
    },
    "executionInfo": {
     "elapsed": 2100,
     "status": "ok",
     "timestamp": 1666188174916,
     "user": {
      "displayName": "Satyajit Ghana",
      "userId": "01212802151232037951"
     },
     "user_tz": -330
    },
    "id": "EoO6JhRsG_Z1",
    "outputId": "20738f23-6587-45de-e952-12278c47a41b"
   },
   "outputs": [],
   "source": [
    "torch.manual_seed(0)\n",
    "np.random.seed(0)\n",
    "\n",
    "gradient_shap = GradientShap(model)\n",
    "\n",
    "# Defining baseline distribution of images\n",
    "rand_img_dist = torch.cat([img_tensor * 0, img_tensor * 1])\n",
    "\n",
    "attributions_gs = gradient_shap.attribute(\n",
    "    img_tensor, n_samples=50, stdevs=0.0001, baselines=rand_img_dist, target=pred_label_idx\n",
    ")\n",
    "_ = viz.visualize_image_attr_multiple(\n",
    "    np.transpose(attributions_gs.squeeze().cpu().detach().numpy(), (1, 2, 0)),\n",
    "    np.transpose(transformed_img.squeeze().cpu().detach().numpy(), (1, 2, 0)),\n",
    "    [\"original_image\", \"heat_map\"],\n",
    "    [\"all\", \"absolute_value\"],\n",
    "    cmap=default_cmap,\n",
    "    show_colorbar=True,\n",
    ")"
   ]
  },
  {
   "cell_type": "code",
   "execution_count": null,
   "metadata": {
    "executionInfo": {
     "elapsed": 4992,
     "status": "ok",
     "timestamp": 1666188179902,
     "user": {
      "displayName": "Satyajit Ghana",
      "userId": "01212802151232037951"
     },
     "user_tz": -330
    },
    "id": "FF8AFmJAHPrW"
   },
   "outputs": [],
   "source": [
    "occlusion = Occlusion(model)\n",
    "\n",
    "attributions_occ = occlusion.attribute(\n",
    "    img_tensor,\n",
    "    strides=(3, 8, 8),\n",
    "    target=pred_label_idx,\n",
    "    sliding_window_shapes=(3, 15, 15),\n",
    "    baselines=0,\n",
    ")"
   ]
  },
  {
   "cell_type": "code",
   "execution_count": null,
   "metadata": {
    "colab": {
     "base_uri": "https://localhost:8080/",
     "height": 332
    },
    "executionInfo": {
     "elapsed": 1703,
     "status": "ok",
     "timestamp": 1666188181600,
     "user": {
      "displayName": "Satyajit Ghana",
      "userId": "01212802151232037951"
     },
     "user_tz": -330
    },
    "id": "7Hon-7LjHSQF",
    "outputId": "21ff4f5d-1e21-450a-9535-b34d15a340a5"
   },
   "outputs": [],
   "source": [
    "_ = viz.visualize_image_attr_multiple(\n",
    "    np.transpose(attributions_occ.squeeze().cpu().detach().numpy(), (1, 2, 0)),\n",
    "    np.transpose(transformed_img.squeeze().cpu().detach().numpy(), (1, 2, 0)),\n",
    "    [\"original_image\", \"heat_map\"],\n",
    "    [\"all\", \"positive\"],\n",
    "    show_colorbar=True,\n",
    "    outlier_perc=2,\n",
    ")"
   ]
  },
  {
   "cell_type": "markdown",
   "metadata": {
    "id": "BoaiS0dNIrmm"
   },
   "source": [
    "## SHAP"
   ]
  },
  {
   "cell_type": "markdown",
   "metadata": {
    "id": "ZPnnF49RO2Ln"
   },
   "source": [
    "Works well where number of classes are less"
   ]
  },
  {
   "cell_type": "code",
   "execution_count": null,
   "metadata": {
    "executionInfo": {
     "elapsed": 1418,
     "status": "ok",
     "timestamp": 1666188183014,
     "user": {
      "displayName": "Satyajit Ghana",
      "userId": "01212802151232037951"
     },
     "user_tz": -330
    },
    "id": "A0SVcp_GZ_AQ"
   },
   "outputs": [],
   "source": [
    "import shap"
   ]
  },
  {
   "cell_type": "code",
   "execution_count": null,
   "metadata": {
    "executionInfo": {
     "elapsed": 632,
     "status": "ok",
     "timestamp": 1666188195884,
     "user": {
      "displayName": "Satyajit Ghana",
      "userId": "01212802151232037951"
     },
     "user_tz": -330
    },
    "id": "_WCUFcvFb9qh"
   },
   "outputs": [],
   "source": [
    "transform = T.Compose(\n",
    "    [\n",
    "        T.Resize((224, 224)),\n",
    "        T.ToTensor(),\n",
    "        T.Normalize(mean=[0.485, 0.456, 0.406], std=[0.229, 0.224, 0.225]),\n",
    "    ]\n",
    ")\n",
    "\n",
    "img = Image.open(\"cat.jpeg\")\n",
    "\n",
    "img_tensor = transform(img)\n",
    "img_tensor = img_tensor.unsqueeze(0)\n",
    "img_tensor = img_tensor.to(device)"
   ]
  },
  {
   "cell_type": "code",
   "execution_count": null,
   "metadata": {
    "colab": {
     "base_uri": "https://localhost:8080/"
    },
    "executionInfo": {
     "elapsed": 10,
     "status": "ok",
     "timestamp": 1666188196640,
     "user": {
      "displayName": "Satyajit Ghana",
      "userId": "01212802151232037951"
     },
     "user_tz": -330
    },
    "id": "hf_axG3gekb_",
    "outputId": "a064f9ac-8b80-417c-975c-25596a95f721"
   },
   "outputs": [],
   "source": [
    "model_out = model(img_tensor)\n",
    "classes = torch.argmax(model_out, axis=1).cpu().numpy()\n",
    "print(f\"Classes: {classes}: {np.array(categories)[classes]}\")"
   ]
  },
  {
   "cell_type": "code",
   "execution_count": null,
   "metadata": {
    "colab": {
     "base_uri": "https://localhost:8080/"
    },
    "executionInfo": {
     "elapsed": 8,
     "status": "ok",
     "timestamp": 1666188196640,
     "user": {
      "displayName": "Satyajit Ghana",
      "userId": "01212802151232037951"
     },
     "user_tz": -330
    },
    "id": "txF0BL1fqKOc",
    "outputId": "7ba0dc69-c0e2-42c3-8b9c-e9503fa803b4"
   },
   "outputs": [],
   "source": [
    "img_tensor.shape"
   ]
  },
  {
   "cell_type": "code",
   "execution_count": null,
   "metadata": {
    "executionInfo": {
     "elapsed": 8,
     "status": "ok",
     "timestamp": 1666188196641,
     "user": {
      "displayName": "Satyajit Ghana",
      "userId": "01212802151232037951"
     },
     "user_tz": -330
    },
    "id": "Kr3s26xgm1gE"
   },
   "outputs": [],
   "source": [
    "mean = [0.485, 0.456, 0.406]\n",
    "std = [0.229, 0.224, 0.225]\n",
    "inv_transform = T.Compose(\n",
    "    [\n",
    "        T.Lambda(lambda x: x.permute(0, 3, 1, 2)),\n",
    "        T.Normalize(\n",
    "            mean=(-1 * np.array(mean) / np.array(std)).tolist(), std=(1 / np.array(std)).tolist()\n",
    "        ),\n",
    "        T.Lambda(lambda x: x.permute(0, 2, 3, 1)),\n",
    "    ]\n",
    ")"
   ]
  },
  {
   "cell_type": "code",
   "execution_count": null,
   "metadata": {
    "executionInfo": {
     "elapsed": 7,
     "status": "ok",
     "timestamp": 1666188196641,
     "user": {
      "displayName": "Satyajit Ghana",
      "userId": "01212802151232037951"
     },
     "user_tz": -330
    },
    "id": "r1kwVL09gRmO"
   },
   "outputs": [],
   "source": [
    "def predict(imgs: torch.Tensor) -> torch.Tensor:\n",
    "    imgs = torch.tensor(imgs)\n",
    "    imgs = imgs.permute(0, 3, 1, 2)\n",
    "\n",
    "    img_tensor = imgs.to(device)\n",
    "\n",
    "    output = model(img_tensor)\n",
    "    return output"
   ]
  },
  {
   "cell_type": "code",
   "execution_count": null,
   "metadata": {
    "colab": {
     "base_uri": "https://localhost:8080/",
     "height": 34,
     "referenced_widgets": [
      "0d9b993140144f94a952075a2eddb8e3",
      "1e7443bfd37c43e187567735e8f52ac9",
      "58f6a8bd3d8b472694cff2ffd35f0e34",
      "f68473cdf59d419e9bee0917ecd615af",
      "31f16e5870114927a704ef0e73f6db21",
      "bb4577aa3e324b34947dccf481b5a8d7",
      "df93ab6acd00477f97d51e7875787842",
      "3875ff839e0e4da2aca3b013bedd8692",
      "40124ce1f8d24ca6b72d1d979f2efd7e",
      "aa33178952ba4d1b8361ec5bbf33be69",
      "9bd2d5e416cf49b28f32aeed3dee3f43"
     ]
    },
    "executionInfo": {
     "elapsed": 54662,
     "status": "ok",
     "timestamp": 1666188251296,
     "user": {
      "displayName": "Satyajit Ghana",
      "userId": "01212802151232037951"
     },
     "user_tz": -330
    },
    "id": "H2L-OdH3eyhz",
    "outputId": "293bd9f1-05ec-4784-cca7-3a593c3e522b"
   },
   "outputs": [],
   "source": [
    "topk = 4\n",
    "batch_size = 50\n",
    "n_evals = 10000\n",
    "\n",
    "# define a masker that is used to mask out partitions of the input image.\n",
    "masker_blur = shap.maskers.Image(\"blur(128,128)\", (224, 224, 3))\n",
    "\n",
    "# create an explainer with model and image masker\n",
    "explainer = shap.Explainer(predict, masker_blur, output_names=categories)\n",
    "\n",
    "# feed only one image\n",
    "# here we explain two images using 100 evaluations of the underlying model to estimate the SHAP values\n",
    "image_np = Image.open(\"cat.jpeg\")\n",
    "img_tensor = transform(image_np)\n",
    "img_tensor = img_tensor.unsqueeze(0)\n",
    "img_tensor = img_tensor.permute(0, 2, 3, 1)\n",
    "\n",
    "shap_values = explainer(\n",
    "    img_tensor,\n",
    "    max_evals=n_evals,\n",
    "    batch_size=batch_size,\n",
    "    outputs=shap.Explanation.argsort.flip[:topk],\n",
    ")"
   ]
  },
  {
   "cell_type": "code",
   "execution_count": null,
   "metadata": {
    "colab": {
     "base_uri": "https://localhost:8080/"
    },
    "executionInfo": {
     "elapsed": 9,
     "status": "ok",
     "timestamp": 1666188251297,
     "user": {
      "displayName": "Satyajit Ghana",
      "userId": "01212802151232037951"
     },
     "user_tz": -330
    },
    "id": "t0SUTL2zmjDU",
    "outputId": "7329daa6-ccd5-4fda-eb38-38cfa1bc36a5"
   },
   "outputs": [],
   "source": [
    "(shap_values.data.shape, shap_values.values.shape)"
   ]
  },
  {
   "cell_type": "code",
   "execution_count": null,
   "metadata": {
    "executionInfo": {
     "elapsed": 5,
     "status": "ok",
     "timestamp": 1666188251297,
     "user": {
      "displayName": "Satyajit Ghana",
      "userId": "01212802151232037951"
     },
     "user_tz": -330
    },
    "id": "cezM9LFKrT7r"
   },
   "outputs": [],
   "source": [
    "shap_values.data = inv_transform(shap_values.data).cpu().numpy()[0]"
   ]
  },
  {
   "cell_type": "code",
   "execution_count": null,
   "metadata": {
    "executionInfo": {
     "elapsed": 5,
     "status": "ok",
     "timestamp": 1666188251297,
     "user": {
      "displayName": "Satyajit Ghana",
      "userId": "01212802151232037951"
     },
     "user_tz": -330
    },
    "id": "zIdTyz0fr_Cv"
   },
   "outputs": [],
   "source": [
    "shap_values.values = [val for val in np.moveaxis(shap_values.values[0], -1, 0)]"
   ]
  },
  {
   "cell_type": "code",
   "execution_count": null,
   "metadata": {
    "colab": {
     "base_uri": "https://localhost:8080/",
     "height": 274
    },
    "executionInfo": {
     "elapsed": 1807,
     "status": "ok",
     "timestamp": 1666188253100,
     "user": {
      "displayName": "Satyajit Ghana",
      "userId": "01212802151232037951"
     },
     "user_tz": -330
    },
    "id": "QmDJKNXir-2W",
    "outputId": "f937cfcf-2b10-4531-f97d-419204dc5e68"
   },
   "outputs": [],
   "source": [
    "shap.image_plot(\n",
    "    shap_values=shap_values.values,\n",
    "    pixel_values=shap_values.data,\n",
    "    labels=shap_values.output_names,\n",
    "    true_labels=[categories[285]],\n",
    ")"
   ]
  },
  {
   "cell_type": "markdown",
   "metadata": {
    "id": "AjTEaBlyshmi"
   },
   "source": [
    "## Captum Robustness"
   ]
  },
  {
   "cell_type": "code",
   "execution_count": null,
   "metadata": {
    "executionInfo": {
     "elapsed": 926,
     "status": "ok",
     "timestamp": 1666188738021,
     "user": {
      "displayName": "Satyajit Ghana",
      "userId": "01212802151232037951"
     },
     "user_tz": -330
    },
    "id": "1ss9frq3j9z7"
   },
   "outputs": [],
   "source": [
    "from captum.attr import DeepLift, IntegratedGradients, NoiseTunnel, Saliency\n",
    "from captum.attr import visualization as viz"
   ]
  },
  {
   "cell_type": "code",
   "execution_count": null,
   "metadata": {
    "executionInfo": {
     "elapsed": 2,
     "status": "ok",
     "timestamp": 1666188738021,
     "user": {
      "displayName": "Satyajit Ghana",
      "userId": "01212802151232037951"
     },
     "user_tz": -330
    },
    "id": "nX4f-9s9lD02"
   },
   "outputs": [],
   "source": [
    "transform = T.Compose(\n",
    "    [\n",
    "        T.Resize((224, 224)),\n",
    "        T.ToTensor(),\n",
    "        T.Normalize(mean=[0.485, 0.456, 0.406], std=[0.229, 0.224, 0.225]),\n",
    "    ]\n",
    ")\n",
    "\n",
    "img = Image.open(\"cat.jpeg\")\n",
    "\n",
    "img_tensor = transform(img)\n",
    "img_tensor = img_tensor.unsqueeze(0)\n",
    "img_tensor.requires_grad = True\n",
    "img_tensor = img_tensor.to(device)"
   ]
  },
  {
   "cell_type": "code",
   "execution_count": null,
   "metadata": {
    "colab": {
     "base_uri": "https://localhost:8080/"
    },
    "executionInfo": {
     "elapsed": 5,
     "status": "ok",
     "timestamp": 1666188740485,
     "user": {
      "displayName": "Satyajit Ghana",
      "userId": "01212802151232037951"
     },
     "user_tz": -330
    },
    "id": "HtF2CsCrjz1y",
    "outputId": "5174adc3-47c3-4689-93f4-329f80dad49b"
   },
   "outputs": [],
   "source": [
    "img_tensor.requires_grad"
   ]
  },
  {
   "cell_type": "code",
   "execution_count": null,
   "metadata": {
    "executionInfo": {
     "elapsed": 424,
     "status": "ok",
     "timestamp": 1666188740906,
     "user": {
      "displayName": "Satyajit Ghana",
      "userId": "01212802151232037951"
     },
     "user_tz": -330
    },
    "id": "y21Y_pDkj1jS"
   },
   "outputs": [],
   "source": [
    "saliency = Saliency(model)\n",
    "grads = saliency.attribute(img_tensor, target=285)\n",
    "grads = np.transpose(grads.squeeze().cpu().detach().numpy(), (1, 2, 0))"
   ]
  },
  {
   "cell_type": "code",
   "execution_count": null,
   "metadata": {
    "executionInfo": {
     "elapsed": 2,
     "status": "ok",
     "timestamp": 1666188740906,
     "user": {
      "displayName": "Satyajit Ghana",
      "userId": "01212802151232037951"
     },
     "user_tz": -330
    },
    "id": "eOxCKwn7kJU0"
   },
   "outputs": [],
   "source": [
    "original_image = np.transpose((img_tensor.squeeze(0).cpu().detach().numpy() / 2) + 0.5, (1, 2, 0))"
   ]
  },
  {
   "cell_type": "code",
   "execution_count": null,
   "metadata": {
    "colab": {
     "base_uri": "https://localhost:8080/"
    },
    "executionInfo": {
     "elapsed": 9,
     "status": "ok",
     "timestamp": 1666188742594,
     "user": {
      "displayName": "Satyajit Ghana",
      "userId": "01212802151232037951"
     },
     "user_tz": -330
    },
    "id": "TrWjnNPJkVZ7",
    "outputId": "f94f420d-2ae1-4f42-f9f5-33191bbd4442"
   },
   "outputs": [],
   "source": [
    "original_image.shape"
   ]
  },
  {
   "cell_type": "code",
   "execution_count": null,
   "metadata": {
    "colab": {
     "base_uri": "https://localhost:8080/",
     "height": 390
    },
    "executionInfo": {
     "elapsed": 1225,
     "status": "ok",
     "timestamp": 1666188743812,
     "user": {
      "displayName": "Satyajit Ghana",
      "userId": "01212802151232037951"
     },
     "user_tz": -330
    },
    "id": "d1d89OQckWrT",
    "outputId": "4a3b03f6-b43d-4b32-ebec-68477a25c0c6"
   },
   "outputs": [],
   "source": [
    "_ = viz.visualize_image_attr(None, original_image, method=\"original_image\", title=\"Original Image\")"
   ]
  },
  {
   "cell_type": "code",
   "execution_count": null,
   "metadata": {
    "colab": {
     "base_uri": "https://localhost:8080/",
     "height": 390
    },
    "executionInfo": {
     "elapsed": 1731,
     "status": "ok",
     "timestamp": 1666188427255,
     "user": {
      "displayName": "Satyajit Ghana",
      "userId": "01212802151232037951"
     },
     "user_tz": -330
    },
    "id": "wt8QsQ7OkY6A",
    "outputId": "394000e1-1d67-4c88-ed6d-769a7c3c1151"
   },
   "outputs": [],
   "source": [
    "_ = viz.visualize_image_attr(\n",
    "    grads,\n",
    "    original_image,\n",
    "    method=\"blended_heat_map\",\n",
    "    sign=\"absolute_value\",\n",
    "    show_colorbar=True,\n",
    "    title=\"Overlayed Gradient Magnitudes\",\n",
    ")"
   ]
  },
  {
   "cell_type": "code",
   "execution_count": null,
   "metadata": {
    "executionInfo": {
     "elapsed": 361,
     "status": "ok",
     "timestamp": 1666188755169,
     "user": {
      "displayName": "Satyajit Ghana",
      "userId": "01212802151232037951"
     },
     "user_tz": -330
    },
    "id": "r4gw2ZjQkhZN"
   },
   "outputs": [],
   "source": [
    "def attribute_image_features(algorithm, input, **kwargs):\n",
    "    model.zero_grad()\n",
    "    tensor_attributions = algorithm.attribute(input, target=285, **kwargs)\n",
    "\n",
    "    return tensor_attributions"
   ]
  },
  {
   "cell_type": "code",
   "execution_count": null,
   "metadata": {
    "colab": {
     "base_uri": "https://localhost:8080/"
    },
    "executionInfo": {
     "elapsed": 4,
     "status": "ok",
     "timestamp": 1666188488945,
     "user": {
      "displayName": "Satyajit Ghana",
      "userId": "01212802151232037951"
     },
     "user_tz": -330
    },
    "id": "ucfno90Dka-0",
    "outputId": "2d8850fb-90f1-420e-f260-974e3c6b0f79"
   },
   "outputs": [],
   "source": [
    "ig = IntegratedGradients(model)\n",
    "attr_ig, delta = attribute_image_features(\n",
    "    ig, img_tensor, baselines=img_tensor * 0, return_convergence_delta=True\n",
    ")\n",
    "attr_ig = np.transpose(attr_ig.squeeze().cpu().detach().numpy(), (1, 2, 0))\n",
    "print(\"Approximation delta: \", abs(delta))"
   ]
  },
  {
   "cell_type": "code",
   "execution_count": null,
   "metadata": {
    "colab": {
     "base_uri": "https://localhost:8080/",
     "height": 390
    },
    "executionInfo": {
     "elapsed": 1716,
     "status": "ok",
     "timestamp": 1666188499988,
     "user": {
      "displayName": "Satyajit Ghana",
      "userId": "01212802151232037951"
     },
     "user_tz": -330
    },
    "id": "c4Z-hxV0kmCc",
    "outputId": "fccb9486-259c-427c-d87f-8688f2e551a9"
   },
   "outputs": [],
   "source": [
    "_ = viz.visualize_image_attr(\n",
    "    attr_ig,\n",
    "    original_image,\n",
    "    method=\"blended_heat_map\",\n",
    "    sign=\"all\",\n",
    "    show_colorbar=True,\n",
    "    title=\"Overlayed Integrated Gradients\",\n",
    ")"
   ]
  },
  {
   "cell_type": "markdown",
   "metadata": {
    "id": "QKava49KmNDf"
   },
   "source": [
    "## Captum Model Robustness"
   ]
  },
  {
   "cell_type": "code",
   "execution_count": null,
   "metadata": {
    "executionInfo": {
     "elapsed": 1106,
     "status": "ok",
     "timestamp": 1666188906370,
     "user": {
      "displayName": "Satyajit Ghana",
      "userId": "01212802151232037951"
     },
     "user_tz": -330
    },
    "id": "XGr6G_ijmQND"
   },
   "outputs": [],
   "source": [
    "from captum.robust import FGSM, PGD"
   ]
  },
  {
   "cell_type": "code",
   "execution_count": null,
   "metadata": {
    "executionInfo": {
     "elapsed": 1,
     "status": "ok",
     "timestamp": 1666190744404,
     "user": {
      "displayName": "Satyajit Ghana",
      "userId": "01212802151232037951"
     },
     "user_tz": -330
    },
    "id": "1oUvyMEmtRJ0"
   },
   "outputs": [],
   "source": [
    "transform = T.Compose(\n",
    "    [\n",
    "        T.Resize((224, 224)),\n",
    "        T.ToTensor(),\n",
    "        T.Normalize(mean=[0.485, 0.456, 0.406], std=[0.229, 0.224, 0.225]),\n",
    "    ]\n",
    ")\n",
    "\n",
    "img = Image.open(\"cat.jpeg\")\n",
    "\n",
    "img_tensor = transform(img)\n",
    "img_tensor = img_tensor.unsqueeze(0)\n",
    "img_tensor.requires_grad = True\n",
    "img_tensor = img_tensor.to(device)"
   ]
  },
  {
   "cell_type": "code",
   "execution_count": null,
   "metadata": {
    "executionInfo": {
     "elapsed": 2,
     "status": "ok",
     "timestamp": 1666190851275,
     "user": {
      "displayName": "Satyajit Ghana",
      "userId": "01212802151232037951"
     },
     "user_tz": -330
    },
    "id": "r2NoDpg2tpCi"
   },
   "outputs": [],
   "source": [
    "mean = [0.485, 0.456, 0.406]\n",
    "std = [0.229, 0.224, 0.225]\n",
    "inv_transform = T.Compose(\n",
    "    [\n",
    "        T.Normalize(\n",
    "            mean=(-1 * np.array(mean) / np.array(std)).tolist(), std=(1 / np.array(std)).tolist()\n",
    "        ),\n",
    "    ]\n",
    ")"
   ]
  },
  {
   "cell_type": "code",
   "execution_count": null,
   "metadata": {
    "executionInfo": {
     "elapsed": 3,
     "status": "ok",
     "timestamp": 1666190714524,
     "user": {
      "displayName": "Satyajit Ghana",
      "userId": "01212802151232037951"
     },
     "user_tz": -330
    },
    "id": "Woqz3B0WmWBI"
   },
   "outputs": [],
   "source": [
    "def get_prediction(model, image: torch.Tensor):\n",
    "    model = model.to(device)\n",
    "    img_tensor = image.to(device)\n",
    "    with torch.no_grad():\n",
    "        output = model(img_tensor)\n",
    "    output = F.softmax(output, dim=1)\n",
    "    prediction_score, pred_label_idx = torch.topk(output, 1)\n",
    "\n",
    "    pred_label_idx.squeeze_()\n",
    "    predicted_label = categories[pred_label_idx.item()]\n",
    "\n",
    "    return predicted_label, prediction_score.squeeze().item()\n",
    "\n",
    "    # print('Predicted:', predicted_label, '(', prediction_score.squeeze().item(), ')')"
   ]
  },
  {
   "cell_type": "code",
   "execution_count": null,
   "metadata": {
    "executionInfo": {
     "elapsed": 490,
     "status": "ok",
     "timestamp": 1666191115133,
     "user": {
      "displayName": "Satyajit Ghana",
      "userId": "01212802151232037951"
     },
     "user_tz": -330
    },
    "id": "jSdE9pIrtOMu"
   },
   "outputs": [],
   "source": [
    "# Get original prediction\n",
    "pred, score = get_prediction(model, img_tensor)"
   ]
  },
  {
   "cell_type": "code",
   "execution_count": null,
   "metadata": {
    "executionInfo": {
     "elapsed": 2,
     "status": "ok",
     "timestamp": 1666190909181,
     "user": {
      "displayName": "Satyajit Ghana",
      "userId": "01212802151232037951"
     },
     "user_tz": -330
    },
    "id": "OLNbID9OtV__"
   },
   "outputs": [],
   "source": [
    "def image_show(img, pred):\n",
    "    npimg = inv_transform(img).squeeze().permute(1, 2, 0).detach().numpy()\n",
    "    plt.imshow(npimg)\n",
    "    plt.title(\"prediction: %s\" % pred)\n",
    "    plt.show()"
   ]
  },
  {
   "cell_type": "code",
   "execution_count": null,
   "metadata": {
    "colab": {
     "base_uri": "https://localhost:8080/",
     "height": 281
    },
    "executionInfo": {
     "elapsed": 679,
     "status": "ok",
     "timestamp": 1666191121006,
     "user": {
      "displayName": "Satyajit Ghana",
      "userId": "01212802151232037951"
     },
     "user_tz": -330
    },
    "id": "CFxVok8jtX6i",
    "outputId": "f23bd942-28b3-474d-9ccb-39ef89c2417a"
   },
   "outputs": [],
   "source": [
    "image_show(img_tensor.cpu(), pred + \" \" + str(score))"
   ]
  },
  {
   "cell_type": "code",
   "execution_count": null,
   "metadata": {
    "executionInfo": {
     "elapsed": 3,
     "status": "ok",
     "timestamp": 1666190715688,
     "user": {
      "displayName": "Satyajit Ghana",
      "userId": "01212802151232037951"
     },
     "user_tz": -330
    },
    "id": "0p_sr9YqmHOi"
   },
   "outputs": [],
   "source": [
    "# Construct FGSM attacker\n",
    "fgsm = FGSM(model, lower_bound=-1, upper_bound=1)\n",
    "perturbed_image_fgsm = fgsm.perturb(img_tensor, epsilon=0.16, target=285)\n",
    "new_pred_fgsm, score_fgsm = get_prediction(model, perturbed_image_fgsm)"
   ]
  },
  {
   "cell_type": "code",
   "execution_count": null,
   "metadata": {
    "colab": {
     "base_uri": "https://localhost:8080/"
    },
    "executionInfo": {
     "elapsed": 2,
     "status": "ok",
     "timestamp": 1666190880193,
     "user": {
      "displayName": "Satyajit Ghana",
      "userId": "01212802151232037951"
     },
     "user_tz": -330
    },
    "id": "IGYhVThwtwSr",
    "outputId": "77d02e45-2b96-400f-c7f0-e7cf79213f5f"
   },
   "outputs": [],
   "source": [
    "# inv_transform(img_tensor).shape"
   ]
  },
  {
   "cell_type": "code",
   "execution_count": null,
   "metadata": {
    "colab": {
     "base_uri": "https://localhost:8080/",
     "height": 281
    },
    "executionInfo": {
     "elapsed": 4,
     "status": "ok",
     "timestamp": 1666190928969,
     "user": {
      "displayName": "Satyajit Ghana",
      "userId": "01212802151232037951"
     },
     "user_tz": -330
    },
    "id": "Oh-CZtGMs5Os",
    "outputId": "6c190060-3c5c-4e81-af38-61fad51f1602"
   },
   "outputs": [],
   "source": [
    "image_show(perturbed_image_fgsm.cpu(), new_pred_fgsm + \" \" + str(score_fgsm))"
   ]
  },
  {
   "cell_type": "code",
   "execution_count": null,
   "metadata": {
    "executionInfo": {
     "elapsed": 342,
     "status": "ok",
     "timestamp": 1666191164050,
     "user": {
      "displayName": "Satyajit Ghana",
      "userId": "01212802151232037951"
     },
     "user_tz": -330
    },
    "id": "yvDmzcdEtXAX"
   },
   "outputs": [],
   "source": [
    "pgd = PGD(\n",
    "    model, torch.nn.CrossEntropyLoss(reduction=\"none\"), lower_bound=-1, upper_bound=1\n",
    ")  # construct the PGD attacker\n",
    "\n",
    "perturbed_image_pgd = pgd.perturb(\n",
    "    inputs=img_tensor,\n",
    "    radius=0.13,\n",
    "    step_size=0.02,\n",
    "    step_num=7,\n",
    "    target=torch.tensor([199]).to(device),\n",
    "    targeted=True,\n",
    ")\n",
    "new_pred_pgd, score_pgd = get_prediction(model, perturbed_image_pgd)"
   ]
  },
  {
   "cell_type": "code",
   "execution_count": null,
   "metadata": {
    "colab": {
     "base_uri": "https://localhost:8080/",
     "height": 281
    },
    "executionInfo": {
     "elapsed": 2102,
     "status": "ok",
     "timestamp": 1666191167908,
     "user": {
      "displayName": "Satyajit Ghana",
      "userId": "01212802151232037951"
     },
     "user_tz": -330
    },
    "id": "CbcMPCFMuNgN",
    "outputId": "831c16fc-cbc7-47f1-9c99-b140cd4df251"
   },
   "outputs": [],
   "source": [
    "image_show(perturbed_image_pgd.cpu(), new_pred_pgd + \" \" + str(score_pgd))"
   ]
  },
  {
   "cell_type": "markdown",
   "metadata": {
    "id": "DLZv8HK7vXem"
   },
   "source": [
    "Feature Ablation"
   ]
  },
  {
   "cell_type": "code",
   "execution_count": null,
   "metadata": {
    "colab": {
     "base_uri": "https://localhost:8080/"
    },
    "executionInfo": {
     "elapsed": 5,
     "status": "ok",
     "timestamp": 1666192166503,
     "user": {
      "displayName": "Satyajit Ghana",
      "userId": "01212802151232037951"
     },
     "user_tz": -330
    },
    "id": "HWbeM9UKvag9",
    "outputId": "8da8df97-62b0-4ee8-f1d7-8976a8329833"
   },
   "outputs": [],
   "source": [
    "feature_mask = (\n",
    "    torch.arange(64 * 7 * 7)\n",
    "    .reshape(8 * 7, 8 * 7)\n",
    "    .repeat_interleave(repeats=4, dim=1)\n",
    "    .repeat_interleave(repeats=4, dim=0)\n",
    "    .reshape(1, 1, 224, 224)\n",
    ")\n",
    "print(feature_mask)"
   ]
  },
  {
   "cell_type": "code",
   "execution_count": null,
   "metadata": {
    "colab": {
     "base_uri": "https://localhost:8080/"
    },
    "executionInfo": {
     "elapsed": 4,
     "status": "ok",
     "timestamp": 1666192172071,
     "user": {
      "displayName": "Satyajit Ghana",
      "userId": "01212802151232037951"
     },
     "user_tz": -330
    },
    "id": "uvY6A0Kdv7Ge",
    "outputId": "d739f77e-4313-4654-ec13-b0253751e04b"
   },
   "outputs": [],
   "source": [
    "feature_mask.shape"
   ]
  },
  {
   "cell_type": "code",
   "execution_count": null,
   "metadata": {
    "id": "AZCSHAVEznpp"
   },
   "outputs": [],
   "source": [
    "from captum.attr import FeatureAblation\n",
    "\n",
    "ablator = FeatureAblation(model)\n",
    "attr = ablator.attribute(img_tensor, target=285, feature_mask=feature_mask)\n",
    "# Choose single channel, all channels have same attribution scores\n",
    "pixel_attr = attr[:, 0:1]"
   ]
  },
  {
   "cell_type": "code",
   "execution_count": null,
   "metadata": {
    "executionInfo": {
     "elapsed": 1,
     "status": "ok",
     "timestamp": 1666192195673,
     "user": {
      "displayName": "Satyajit Ghana",
      "userId": "01212802151232037951"
     },
     "user_tz": -330
    },
    "id": "vgdtV4FlvnLG"
   },
   "outputs": [],
   "source": [
    "def pixel_dropout(image, dropout_pixels):\n",
    "    keep_pixels = image[0][0].numel() - int(dropout_pixels)\n",
    "    vals, _ = torch.kthvalue(pixel_attr.flatten(), keep_pixels)\n",
    "    return (pixel_attr < vals.item()) * image"
   ]
  },
  {
   "cell_type": "code",
   "execution_count": null,
   "metadata": {
    "executionInfo": {
     "elapsed": 3,
     "status": "ok",
     "timestamp": 1666192196252,
     "user": {
      "displayName": "Satyajit Ghana",
      "userId": "01212802151232037951"
     },
     "user_tz": -330
    },
    "id": "EAsb-ijXwUes"
   },
   "outputs": [],
   "source": [
    "from captum.robust import MinParamPerturbation\n",
    "\n",
    "min_pert_attr = MinParamPerturbation(\n",
    "    forward_func=model,\n",
    "    attack=pixel_dropout,\n",
    "    arg_name=\"dropout_pixels\",\n",
    "    mode=\"linear\",\n",
    "    arg_min=0,\n",
    "    arg_max=1024,\n",
    "    arg_step=16,\n",
    "    preproc_fn=None,\n",
    "    apply_before_preproc=True,\n",
    ")"
   ]
  },
  {
   "cell_type": "code",
   "execution_count": null,
   "metadata": {
    "colab": {
     "base_uri": "https://localhost:8080/"
    },
    "executionInfo": {
     "elapsed": 2,
     "status": "ok",
     "timestamp": 1666192196252,
     "user": {
      "displayName": "Satyajit Ghana",
      "userId": "01212802151232037951"
     },
     "user_tz": -330
    },
    "id": "2D_uHIBHwWWB",
    "outputId": "dd8bfe1e-90e8-4e72-9d99-faee43c748ce"
   },
   "outputs": [],
   "source": [
    "pixel_dropout_im, pixels_dropped = min_pert_attr.evaluate(\n",
    "    img_tensor, target=285, perturbations_per_eval=10\n",
    ")\n",
    "print(\"Minimum Pixels Dropped:\", pixels_dropped)"
   ]
  },
  {
   "cell_type": "code",
   "execution_count": null,
   "metadata": {
    "executionInfo": {
     "elapsed": 2,
     "status": "ok",
     "timestamp": 1666192196252,
     "user": {
      "displayName": "Satyajit Ghana",
      "userId": "01212802151232037951"
     },
     "user_tz": -330
    },
    "id": "4fl8l-FmweGz"
   },
   "outputs": [],
   "source": [
    "new_pred_dropout, score_dropout = get_prediction(model, pixel_dropout_im)"
   ]
  },
  {
   "cell_type": "code",
   "execution_count": null,
   "metadata": {
    "colab": {
     "base_uri": "https://localhost:8080/",
     "height": 281
    },
    "executionInfo": {
     "elapsed": 1096,
     "status": "ok",
     "timestamp": 1666192199514,
     "user": {
      "displayName": "Satyajit Ghana",
      "userId": "01212802151232037951"
     },
     "user_tz": -330
    },
    "id": "AFeFS0LqwofQ",
    "outputId": "c86f9949-1a56-4a37-a4ca-3bfd8bea0038"
   },
   "outputs": [],
   "source": [
    "image_show(pixel_dropout_im.cpu(), new_pred_dropout + \" \" + str(score_dropout))"
   ]
  },
  {
   "cell_type": "markdown",
   "metadata": {
    "id": "7FH2XjZ0y7W8"
   },
   "source": [
    "Grad CAM"
   ]
  },
  {
   "cell_type": "code",
   "execution_count": null,
   "metadata": {
    "executionInfo": {
     "elapsed": 1801,
     "status": "ok",
     "timestamp": 1666192328384,
     "user": {
      "displayName": "Satyajit Ghana",
      "userId": "01212802151232037951"
     },
     "user_tz": -330
    },
    "id": "6UYYlhZ0wt2K"
   },
   "outputs": [],
   "source": [
    "from pytorch_grad_cam import (\n",
    "    AblationCAM,\n",
    "    EigenCAM,\n",
    "    FullGrad,\n",
    "    GradCAM,\n",
    "    GradCAMPlusPlus,\n",
    "    HiResCAM,\n",
    "    ScoreCAM,\n",
    "    XGradCAM,\n",
    ")\n",
    "from pytorch_grad_cam.utils.image import show_cam_on_image\n",
    "from pytorch_grad_cam.utils.model_targets import ClassifierOutputTarget"
   ]
  },
  {
   "cell_type": "code",
   "execution_count": null,
   "metadata": {
    "executionInfo": {
     "elapsed": 423,
     "status": "ok",
     "timestamp": 1666192352184,
     "user": {
      "displayName": "Satyajit Ghana",
      "userId": "01212802151232037951"
     },
     "user_tz": -330
    },
    "id": "Ua493DlWzLs2"
   },
   "outputs": [],
   "source": [
    "target_layers = [model.layer4[-1]]"
   ]
  },
  {
   "cell_type": "code",
   "execution_count": null,
   "metadata": {
    "executionInfo": {
     "elapsed": 1,
     "status": "ok",
     "timestamp": 1666192362315,
     "user": {
      "displayName": "Satyajit Ghana",
      "userId": "01212802151232037951"
     },
     "user_tz": -330
    },
    "id": "7uccsit4zZ20"
   },
   "outputs": [],
   "source": [
    "cam = GradCAM(model=model, target_layers=target_layers, use_cuda=True)"
   ]
  },
  {
   "cell_type": "code",
   "execution_count": null,
   "metadata": {
    "executionInfo": {
     "elapsed": 4,
     "status": "ok",
     "timestamp": 1666192475528,
     "user": {
      "displayName": "Satyajit Ghana",
      "userId": "01212802151232037951"
     },
     "user_tz": -330
    },
    "id": "9IAcH2dXzcQo"
   },
   "outputs": [],
   "source": [
    "targets = [ClassifierOutputTarget(281)]\n",
    "\n",
    "# You can also pass aug_smooth=True and eigen_smooth=True, to apply smoothing.\n",
    "grayscale_cam = cam(input_tensor=img_tensor, targets=targets)"
   ]
  },
  {
   "cell_type": "code",
   "execution_count": null,
   "metadata": {
    "executionInfo": {
     "elapsed": 2,
     "status": "ok",
     "timestamp": 1666192479112,
     "user": {
      "displayName": "Satyajit Ghana",
      "userId": "01212802151232037951"
     },
     "user_tz": -330
    },
    "id": "Q-dQm3lyzfx_"
   },
   "outputs": [],
   "source": [
    "# In this example grayscale_cam has only one image in the batch:\n",
    "grayscale_cam = grayscale_cam[0, :]\n",
    "rgb_img = inv_transform(img_tensor).cpu().squeeze().permute(1, 2, 0).detach().numpy()\n",
    "visualization = show_cam_on_image(rgb_img, grayscale_cam, use_rgb=True)"
   ]
  },
  {
   "cell_type": "code",
   "execution_count": null,
   "metadata": {
    "colab": {
     "base_uri": "https://localhost:8080/",
     "height": 286
    },
    "executionInfo": {
     "elapsed": 3,
     "status": "ok",
     "timestamp": 1666192499209,
     "user": {
      "displayName": "Satyajit Ghana",
      "userId": "01212802151232037951"
     },
     "user_tz": -330
    },
    "id": "V7sPkaplzhmh",
    "outputId": "b50eceb3-1a7a-4694-c876-3204cb8362dc"
   },
   "outputs": [],
   "source": [
    "plt.imshow(visualization)"
   ]
  },
  {
   "cell_type": "code",
   "execution_count": null,
   "metadata": {
    "executionInfo": {
     "elapsed": 4,
     "status": "ok",
     "timestamp": 1666192563566,
     "user": {
      "displayName": "Satyajit Ghana",
      "userId": "01212802151232037951"
     },
     "user_tz": -330
    },
    "id": "Z6Q6iq4ez74h"
   },
   "outputs": [],
   "source": [
    "# from pytorch_grad_cam import GradCAMPlusPlus"
   ]
  },
  {
   "cell_type": "code",
   "execution_count": null,
   "metadata": {
    "executionInfo": {
     "elapsed": 2,
     "status": "ok",
     "timestamp": 1666192633817,
     "user": {
      "displayName": "Satyajit Ghana",
      "userId": "01212802151232037951"
     },
     "user_tz": -330
    },
    "id": "zucmfc9p0Nc3"
   },
   "outputs": [],
   "source": [
    "cam = GradCAMPlusPlus(model=model, target_layers=target_layers, use_cuda=True)"
   ]
  },
  {
   "cell_type": "code",
   "execution_count": null,
   "metadata": {
    "executionInfo": {
     "elapsed": 371,
     "status": "ok",
     "timestamp": 1666192645355,
     "user": {
      "displayName": "Satyajit Ghana",
      "userId": "01212802151232037951"
     },
     "user_tz": -330
    },
    "id": "2s4z4Zz20eu3"
   },
   "outputs": [],
   "source": [
    "grayscale_cam = cam(input_tensor=img_tensor, targets=targets)"
   ]
  },
  {
   "cell_type": "code",
   "execution_count": null,
   "metadata": {
    "executionInfo": {
     "elapsed": 1,
     "status": "ok",
     "timestamp": 1666192650914,
     "user": {
      "displayName": "Satyajit Ghana",
      "userId": "01212802151232037951"
     },
     "user_tz": -330
    },
    "id": "Rzc-xi9D0hhd"
   },
   "outputs": [],
   "source": [
    "# In this example grayscale_cam has only one image in the batch:\n",
    "grayscale_cam = grayscale_cam[0, :]\n",
    "rgb_img = inv_transform(img_tensor).cpu().squeeze().permute(1, 2, 0).detach().numpy()\n",
    "visualization = show_cam_on_image(rgb_img, grayscale_cam, use_rgb=True)"
   ]
  },
  {
   "cell_type": "code",
   "execution_count": null,
   "metadata": {
    "colab": {
     "base_uri": "https://localhost:8080/",
     "height": 286
    },
    "executionInfo": {
     "elapsed": 1710,
     "status": "ok",
     "timestamp": 1666192655452,
     "user": {
      "displayName": "Satyajit Ghana",
      "userId": "01212802151232037951"
     },
     "user_tz": -330
    },
    "id": "Mwx1Wf5D0i0K",
    "outputId": "792a1709-aedb-4be9-f36d-ab25c2cdf637"
   },
   "outputs": [],
   "source": [
    "plt.imshow(visualization)"
   ]
  },
  {
   "cell_type": "code",
   "execution_count": null,
   "metadata": {
    "id": "lnLfdz-g0jsD"
   },
   "outputs": [],
   "source": []
  }
 ],
 "metadata": {
  "accelerator": "GPU",
  "colab": {
   "authorship_tag": "ABX9TyNYsTa2VIFPENPntHR1DWQs",
   "collapsed_sections": [],
   "provenance": []
  },
  "kernelspec": {
   "display_name": "Python 3.9.13 ('timm')",
   "language": "python",
   "name": "python3"
  },
  "language_info": {
   "name": "python",
   "version": "3.9.13"
  },
  "vscode": {
   "interpreter": {
    "hash": "7a4fdbb7a63ba2e3cc5e9da57e322552cede57933d0c9fb9aba73535c6118b99"
   }
  }
 },
 "nbformat": 4,
 "nbformat_minor": 0
}
