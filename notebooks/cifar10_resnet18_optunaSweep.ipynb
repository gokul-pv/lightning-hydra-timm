{
 "cells": [
  {
   "cell_type": "code",
   "execution_count": null,
   "metadata": {
    "colab": {
     "base_uri": "https://localhost:8080/"
    },
    "executionInfo": {
     "elapsed": 2100,
     "status": "ok",
     "timestamp": 1663977371787,
     "user": {
      "displayName": "Gokul P V",
      "userId": "01488576985730312631"
     },
     "user_tz": -330
    },
    "id": "wpfWVVqHtZ0t",
    "outputId": "66c33086-78f3-4b3c-d907-ab7349e8f18d"
   },
   "outputs": [],
   "source": [
    "!nvidia-smi"
   ]
  },
  {
   "cell_type": "code",
   "execution_count": null,
   "metadata": {
    "colab": {
     "base_uri": "https://localhost:8080/"
    },
    "executionInfo": {
     "elapsed": 18725,
     "status": "ok",
     "timestamp": 1663988007341,
     "user": {
      "displayName": "Gokul P V",
      "userId": "03397594141489319853"
     },
     "user_tz": -330
    },
    "id": "r8nqyCIYx_W-",
    "outputId": "4e9e4df2-63da-4402-83eb-dadd98975695"
   },
   "outputs": [],
   "source": [
    "from google.colab import drive\n",
    "\n",
    "drive.mount(\"/content/drive\")"
   ]
  },
  {
   "cell_type": "code",
   "execution_count": null,
   "metadata": {
    "colab": {
     "base_uri": "https://localhost:8080/"
    },
    "executionInfo": {
     "elapsed": 369,
     "status": "ok",
     "timestamp": 1663988046093,
     "user": {
      "displayName": "Gokul P V",
      "userId": "03397594141489319853"
     },
     "user_tz": -330
    },
    "id": "LXjgyr59nxJq",
    "outputId": "d3ab97d4-0faa-48f1-dab8-cf72dff13584"
   },
   "outputs": [],
   "source": [
    "# ! cd / content / drive / MyDrive / hydra"
   ]
  },
  {
   "cell_type": "code",
   "execution_count": null,
   "metadata": {
    "colab": {
     "base_uri": "https://localhost:8080/"
    },
    "executionInfo": {
     "elapsed": 3160,
     "status": "ok",
     "timestamp": 1663957987939,
     "user": {
      "displayName": "Gokul P V",
      "userId": "03397594141489319853"
     },
     "user_tz": -330
    },
    "id": "lD_0Of_NvRcw",
    "outputId": "a81c3303-5f1b-4892-84a1-c1a254caad60"
   },
   "outputs": [],
   "source": [
    "! git clone https://github.com/gokul-pv/lightning-hydra-timm"
   ]
  },
  {
   "cell_type": "code",
   "execution_count": null,
   "metadata": {
    "colab": {
     "base_uri": "https://localhost:8080/"
    },
    "executionInfo": {
     "elapsed": 368,
     "status": "ok",
     "timestamp": 1663988049044,
     "user": {
      "displayName": "Gokul P V",
      "userId": "03397594141489319853"
     },
     "user_tz": -330
    },
    "id": "CE2cvw9JwYG-",
    "outputId": "acd10621-1bf4-4e81-b80f-0cc07913b592"
   },
   "outputs": [],
   "source": [
    "# ! cd lightning-hydra-timm/"
   ]
  },
  {
   "cell_type": "code",
   "execution_count": null,
   "metadata": {
    "colab": {
     "base_uri": "https://localhost:8080/"
    },
    "executionInfo": {
     "elapsed": 1058,
     "status": "ok",
     "timestamp": 1663988060492,
     "user": {
      "displayName": "Gokul P V",
      "userId": "03397594141489319853"
     },
     "user_tz": -330
    },
    "id": "8wV1YbPVxuCB",
    "outputId": "7bc65b34-8518-4fc8-f05c-e0fe6bff233b"
   },
   "outputs": [],
   "source": [
    "!ls -al"
   ]
  },
  {
   "cell_type": "code",
   "execution_count": null,
   "metadata": {
    "colab": {
     "base_uri": "https://localhost:8080/",
     "height": 1000
    },
    "executionInfo": {
     "elapsed": 54483,
     "status": "ok",
     "timestamp": 1663977652401,
     "user": {
      "displayName": "Gokul P V",
      "userId": "01488576985730312631"
     },
     "user_tz": -330
    },
    "id": "yhF4iUBkuHZk",
    "outputId": "82d835c3-f6c6-4ff6-e4b9-9dfc23c1ac29"
   },
   "outputs": [],
   "source": [
    "! pip install -r requirements.txt"
   ]
  },
  {
   "cell_type": "code",
   "execution_count": null,
   "metadata": {
    "colab": {
     "base_uri": "https://localhost:8080/"
    },
    "executionInfo": {
     "elapsed": 2389250,
     "status": "ok",
     "timestamp": 1663982594562,
     "user": {
      "displayName": "Gokul P V",
      "userId": "01488576985730312631"
     },
     "user_tz": -330
    },
    "id": "vVe6DKwTxksC",
    "outputId": "84120196-7012-4344-90d5-4c7694674d5e"
   },
   "outputs": [],
   "source": [
    "!python3 src/train.py -m experiment=cifar10_example hparams_search=cifar10_optuna"
   ]
  },
  {
   "cell_type": "code",
   "execution_count": null,
   "metadata": {
    "colab": {
     "base_uri": "https://localhost:8080/"
    },
    "executionInfo": {
     "elapsed": 5230,
     "status": "ok",
     "timestamp": 1663988335152,
     "user": {
      "displayName": "Gokul P V",
      "userId": "03397594141489319853"
     },
     "user_tz": -330
    },
    "id": "aXD-hUjFuFuN",
    "outputId": "24cc8399-404a-432b-a8b8-3b8488cf1a36"
   },
   "outputs": [],
   "source": [
    "! tensorboard dev list"
   ]
  },
  {
   "cell_type": "code",
   "execution_count": null,
   "metadata": {
    "colab": {
     "base_uri": "https://localhost:8080/"
    },
    "executionInfo": {
     "elapsed": 20215,
     "status": "ok",
     "timestamp": 1663988310405,
     "user": {
      "displayName": "Gokul P V",
      "userId": "03397594141489319853"
     },
     "user_tz": -330
    },
    "id": "TQwZCDcIa5oP",
    "outputId": "528af8c5-59fe-45e5-a15d-7b9d99ab1fa3"
   },
   "outputs": [],
   "source": [
    "!tensorboard dev upload --logdir ./logs \\\n",
    "  --name \"Optuna Hyperparam sweep for CIFAR10 with resnet18 from timm\" \\\n",
    "  --description \"Training results from https://colab.research.google.com/drive/1BOV2A8G9JbfVJxIOhxB6pKLtJiqltAIo#scrollTo=TQwZCDcIa5oP\" \\\n",
    "  --one_shot"
   ]
  }
 ],
 "metadata": {
  "accelerator": "GPU",
  "colab": {
   "collapsed_sections": [],
   "provenance": []
  },
  "kernelspec": {
   "display_name": "Python 3.9.13 ('timm')",
   "language": "python",
   "name": "python3"
  },
  "language_info": {
   "name": "python",
   "version": "3.9.13"
  },
  "vscode": {
   "interpreter": {
    "hash": "7a4fdbb7a63ba2e3cc5e9da57e322552cede57933d0c9fb9aba73535c6118b99"
   }
  }
 },
 "nbformat": 4,
 "nbformat_minor": 0
}
